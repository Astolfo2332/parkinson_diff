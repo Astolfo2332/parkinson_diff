{
 "cells": [
  {
   "cell_type": "code",
   "execution_count": 1,
   "metadata": {},
   "outputs": [],
   "source": [
    "from typing import Dict, List, Tuple\n",
    "import torch\n",
    "from torch.utils.data import DataLoader\n",
    "from torch import nn\n",
    "from torch.utils.tensorboard import SummaryWriter\n",
    "from tqdm.auto import tqdm\n",
    "from datetime import datetime\n",
    "from utils.engine import train_func, test_func\n",
    "from utils.engine import set_seed"
   ]
  },
  {
   "cell_type": "code",
   "execution_count": 2,
   "metadata": {},
   "outputs": [],
   "source": [
    "from utils.data_load import load_data\n",
    "\n",
    "train_dataloader, test_dataloader = load_data(\"output/\", 2)"
   ]
  },
  {
   "cell_type": "code",
   "execution_count": 6,
   "metadata": {},
   "outputs": [
    {
     "data": {
      "text/plain": [
       "'cuda'"
      ]
     },
     "execution_count": 6,
     "metadata": {},
     "output_type": "execute_result"
    }
   ],
   "source": [
    "device = \"cuda\" if torch.cuda.is_available() else \"cpu\"\n",
    "device"
   ]
  },
  {
   "cell_type": "code",
   "execution_count": 10,
   "metadata": {},
   "outputs": [],
   "source": [
    "def train_func_profiler(model: nn.Module, data: DataLoader, loss_fn:nn.Module,\n",
    "               optimizer: torch.optim.Optimizer, device: torch.device\n",
    "               , log_dir: str) -> Tuple[float, float]:\n",
    "    \"\"\"\n",
    "    Trains a model for a single epoch\n",
    "\n",
    "    Args\n",
    "    ----\n",
    "        model: A Pytorch model\n",
    "        data: a DataLoader object with the train data\n",
    "        loss_fn: loss function to minimized\n",
    "        optimizer: A Pytorch optimizer\n",
    "        device: A target device to perform the operations (\"cuda\" or \"cpu\")\n",
    "\n",
    "    Returns\n",
    "    ------\n",
    "        A tuple with the loss and accuracy of the training epoch like\n",
    "        (train_loss, train_acc)\n",
    "    \"\"\"\n",
    "    def trace_handler(prof):\n",
    "        print(prof.key_averages().table(sort_by=\"self_cuda_time_total\", row_limit=-1))\n",
    "\n",
    "    model.train()\n",
    "    train_loss, train_acc = 0, 0\n",
    "    with torch.profiler.profile(\n",
    "        schedule=torch.profiler.schedule(\n",
    "            wait=1,\n",
    "            warmup=1,\n",
    "            active=1,\n",
    "            repeat=1),\n",
    "        #on_trace_ready=trace_handler,\n",
    "        on_trace_ready=torch.profiler.tensorboard_trace_handler(\"./log\"),\n",
    "        with_stack=True\n",
    "    ) as profiler:\n",
    "        for _ , (x, y) in enumerate(data):\n",
    "            x, y = x.to(device), y.to(device)\n",
    "            y_logit = model(x)\n",
    "            loss = loss_fn(y_logit, y)\n",
    "            train_loss += loss.item()\n",
    "            optimizer.zero_grad()\n",
    "            loss.backward()\n",
    "            optimizer.step()\n",
    "            profiler.step()\n",
    "            y_pred = torch.softmax(y_logit, 1).argmax(1)\n",
    "            train_acc += (y_pred == y).sum().item() / len (y_pred)\n",
    "            #We can use another function if we want\n",
    "    train_loss = train_loss / len(data)\n",
    "    train_acc = train_acc / len(data)\n",
    "    return train_loss, train_acc                            "
   ]
  },
  {
   "cell_type": "code",
   "execution_count": 11,
   "metadata": {},
   "outputs": [],
   "source": [
    "def train(model: nn.Module, test_data: DataLoader, train_data: DataLoader, loss_fn:nn.Module,\n",
    "        optimizer: torch.optim.Optimizer, device: torch.device, epochs: int\n",
    "        , writer: SummaryWriter) -> Dict[str, List]:\n",
    "    \"\"\"\n",
    "    Trains and test a Pytorch model\n",
    "\n",
    "    Args:\n",
    "    -----\n",
    "        model: A Pytorch model\n",
    "        train_data: a DataLoader object with the train data\n",
    "        test_data: a DataLoader object with the train data\n",
    "        loss_fn: loss function to minimized\n",
    "        optimizer: A Pytorch optimizer\n",
    "        device: A target device to perform the operations (\"cuda\" or \"cpu\")\n",
    "        epochs: A integre with the number of epochs that the model will be train\n",
    "    Returns:\n",
    "    --------\n",
    "        A dictionary with the train and test loss and accuracy for every epoch\n",
    "        in the form of \n",
    "        {\"train_loss\": [...],\n",
    "        \"train_acc\": [...],\n",
    "        \"test_loss\": [...],\n",
    "        \"test_acc\": [...]}\n",
    "    \"\"\"\n",
    "    results = {\n",
    "        \"train_loss\": [],\n",
    "        \"train_acc\": [],\n",
    "        \"test_loss\": [],\n",
    "        \"test_acc\": []\n",
    "    }\n",
    "    for epoch in tqdm(range(epochs)):\n",
    "        train_loss, train_acc = train_func(\n",
    "            model,train_data,loss_fn,optimizer, device)\n",
    "        test_loss, test_acc = test_func(\n",
    "            model, test_data, loss_fn, device)\n",
    "        print(\n",
    "            f\"Epoch {epoch+1} |\"\n",
    "            f\"train_loss :{train_loss: .4f} |\"\n",
    "            f\"train_acc :{train_acc: .4f} |\"\n",
    "            f\"test_loss :{test_loss: .4f} |\"\n",
    "            f\"test_acc :{test_acc: .4f} \"\n",
    "        )\n",
    "        results[\"train_loss\"].append(train_loss)\n",
    "        results[\"train_acc\"].append(train_acc)\n",
    "        results[\"test_loss\"].append(test_loss)\n",
    "        results[\"test_acc\"].append(test_acc)\n",
    "\n",
    "        ##Add of the writer\n",
    "        if writer:\n",
    "            writer.add_scalars(main_tag=\"Loss\", \n",
    "            tag_scalar_dict={\"train_loss\": train_loss, \"tests_loss\": test_loss},\n",
    "            global_step=epoch\n",
    "            )\n",
    "\n",
    "            writer.add_scalars(main_tag=\"Accuracy\", \n",
    "            tag_scalar_dict={\"train_acc\": train_acc, \"tests_acc\": test_acc},\n",
    "            global_step=epoch\n",
    "            )\n",
    "\n",
    "            writer.close()\n",
    "    return results"
   ]
  },
  {
   "cell_type": "code",
   "execution_count": 15,
   "metadata": {},
   "outputs": [],
   "source": [
    "class TinyVGG(nn.Module):\n",
    "    \"\"\"\n",
    "    Model architecture copying TinyVGG from: \n",
    "    https://poloclub.github.io/cnn-explainer/\n",
    "    \"\"\"\n",
    "    def __init__(self, input_shape: int, hidden_units: int, output_shape: int) -> None:\n",
    "        super().__init__()\n",
    "        self.conv_block_1 = nn.Sequential(\n",
    "            nn.Conv3d(in_channels=input_shape, \n",
    "                      out_channels=hidden_units, \n",
    "                      kernel_size=3, # how big is the square that's going over the image?\n",
    "                      stride=1, # default\n",
    "                      padding=1), # options = \"valid\" (no padding) or \"same\" (output has same shape as input) or int for specific number \n",
    "            nn.ReLU(),\n",
    "            nn.Conv3d(in_channels=hidden_units, \n",
    "                      out_channels=hidden_units,\n",
    "                      kernel_size=3,\n",
    "                      stride=1,\n",
    "                      padding=1),\n",
    "            nn.ReLU(),\n",
    "            nn.MaxPool3d(kernel_size=2,\n",
    "                         stride=2) # default stride value is same as kernel_size\n",
    "        )\n",
    "        self.conv_block_2 = nn.Sequential(\n",
    "            nn.Conv3d(hidden_units, hidden_units, kernel_size=3, padding=1),\n",
    "            nn.ReLU(),\n",
    "            nn.Conv3d(hidden_units, hidden_units, kernel_size=3, padding=1),\n",
    "            nn.ReLU(),\n",
    "            nn.MaxPool3d(2)\n",
    "        )\n",
    "        self.classifier = nn.Sequential(\n",
    "            nn.Flatten(),\n",
    "            # Where did this in_features shape come from? \n",
    "            # It's because each layer of our network compresses and changes the shape of our inputs data.\n",
    "            nn.LayerNorm((836352,), elementwise_affine=False, eps=1e-5),\n",
    "            nn.Linear(in_features= 836352,\n",
    "                      out_features=output_shape)\n",
    "        )\n",
    "    \n",
    "    def forward(self, x: torch.Tensor):\n",
    "        x = self.conv_block_1(x)\n",
    "        # print(x.shape)\n",
    "        x = self.conv_block_2(x)\n",
    "        x = self.classifier(x)\n",
    "        return x"
   ]
  },
  {
   "cell_type": "code",
   "execution_count": 17,
   "metadata": {},
   "outputs": [],
   "source": [
    "def create_write(name: str, model: str, extra: str=None) -> SummaryWriter():\n",
    "    from datetime import datetime\n",
    "    import os\n",
    "\n",
    "    timestamp = datetime.now().strftime(\"%Y-%m-%d\")\n",
    "    if extra:\n",
    "        log_dir = os.path.join(\"runs\", timestamp, name, model, extra)\n",
    "    else:\n",
    "        log_dir = os.path.join(\"runs\", timestamp, name, model)\n",
    "    print(f\"[INFO] create summary writer, saving to: {log_dir}\")\n",
    "    return SummaryWriter(log_dir=log_dir)"
   ]
  },
  {
   "cell_type": "code",
   "execution_count": 23,
   "metadata": {},
   "outputs": [],
   "source": [
    "num_epochs = [2, 5, 10]\n",
    "optimizers = [\"Adam\", \"SGD\", \"Adamw\"]"
   ]
  },
  {
   "cell_type": "code",
   "execution_count": 18,
   "metadata": {},
   "outputs": [],
   "source": [
    "def select_optimizer(model: nn.Module, optimizer: str):\n",
    "    if optimizer == \"Adam\":\n",
    "        return torch.optim.Adam(model.parameters(), lr=0.001)\n",
    "    elif optimizer == \"SGD\": \n",
    "        return torch.optim.SGD(model.parameters(), lr=0.001)\n",
    "    elif optimizer == \"Adamw\":\n",
    "        return torch.optim.AdamW(model.parameters(), lr=0.001)"
   ]
  },
  {
   "cell_type": "code",
   "execution_count": 24,
   "metadata": {},
   "outputs": [
    {
     "name": "stdout",
     "output_type": "stream",
     "text": [
      "[INFO] Experiment number: 1\n",
      "[INFO] model: TinyVGG\n",
      "[INFO] Optimizer: Adam\n",
      "[INFO] Epochs: 2\n",
      "[INFO] create summary writer, saving to: runs/2024-11-21/Adam/TinyVGG/2\n"
     ]
    },
    {
     "data": {
      "application/vnd.jupyter.widget-view+json": {
       "model_id": "928050ce50d5453ca9493182f14a7178",
       "version_major": 2,
       "version_minor": 0
      },
      "text/plain": [
       "  0%|          | 0/2 [00:00<?, ?it/s]"
      ]
     },
     "metadata": {},
     "output_type": "display_data"
    },
    {
     "name": "stdout",
     "output_type": "stream",
     "text": [
      "Epoch 1 |train_loss : 0.5387 |train_acc : 0.6667 |test_loss : 0.0000 |test_acc : 1.0000 \n",
      "Epoch 2 |train_loss : 0.0000 |train_acc : 1.0000 |test_loss : 0.0000 |test_acc : 1.0000 \n",
      "--------------------------------------------------\n",
      "\n",
      "[INFO] Experiment number: 2\n",
      "[INFO] model: TinyVGG\n",
      "[INFO] Optimizer: SGD\n",
      "[INFO] Epochs: 2\n",
      "[INFO] create summary writer, saving to: runs/2024-11-21/SGD/TinyVGG/2\n"
     ]
    },
    {
     "data": {
      "application/vnd.jupyter.widget-view+json": {
       "model_id": "62d95364c6f94841a04d401ee48d297a",
       "version_major": 2,
       "version_minor": 0
      },
      "text/plain": [
       "  0%|          | 0/2 [00:00<?, ?it/s]"
      ]
     },
     "metadata": {},
     "output_type": "display_data"
    },
    {
     "name": "stdout",
     "output_type": "stream",
     "text": [
      "Epoch 1 |train_loss : 0.4216 |train_acc : 0.6667 |test_loss : 0.0000 |test_acc : 1.0000 \n",
      "Epoch 2 |train_loss : 0.0000 |train_acc : 1.0000 |test_loss : 0.0000 |test_acc : 1.0000 \n",
      "--------------------------------------------------\n",
      "\n",
      "[INFO] Experiment number: 3\n",
      "[INFO] model: TinyVGG\n",
      "[INFO] Optimizer: Adamw\n",
      "[INFO] Epochs: 2\n",
      "[INFO] create summary writer, saving to: runs/2024-11-21/Adamw/TinyVGG/2\n"
     ]
    },
    {
     "data": {
      "application/vnd.jupyter.widget-view+json": {
       "model_id": "4cefead976c74e1fbdb3d78b43b53d64",
       "version_major": 2,
       "version_minor": 0
      },
      "text/plain": [
       "  0%|          | 0/2 [00:00<?, ?it/s]"
      ]
     },
     "metadata": {},
     "output_type": "display_data"
    },
    {
     "name": "stdout",
     "output_type": "stream",
     "text": [
      "Epoch 1 |train_loss : 0.4064 |train_acc : 0.6667 |test_loss : 0.0000 |test_acc : 1.0000 \n",
      "Epoch 2 |train_loss : 0.0000 |train_acc : 1.0000 |test_loss : 0.0000 |test_acc : 1.0000 \n",
      "--------------------------------------------------\n",
      "\n",
      "[INFO] Experiment number: 4\n",
      "[INFO] model: TinyVGG\n",
      "[INFO] Optimizer: Adam\n",
      "[INFO] Epochs: 5\n",
      "[INFO] create summary writer, saving to: runs/2024-11-21/Adam/TinyVGG/5\n"
     ]
    },
    {
     "data": {
      "application/vnd.jupyter.widget-view+json": {
       "model_id": "e5419be5963c420d833c264707de3d2f",
       "version_major": 2,
       "version_minor": 0
      },
      "text/plain": [
       "  0%|          | 0/5 [00:00<?, ?it/s]"
      ]
     },
     "metadata": {},
     "output_type": "display_data"
    },
    {
     "name": "stdout",
     "output_type": "stream",
     "text": [
      "Epoch 1 |train_loss : 0.2911 |train_acc : 0.8333 |test_loss : 0.0000 |test_acc : 1.0000 \n",
      "Epoch 2 |train_loss : 0.0000 |train_acc : 1.0000 |test_loss : 0.0000 |test_acc : 1.0000 \n",
      "Epoch 3 |train_loss : 0.0000 |train_acc : 1.0000 |test_loss : 0.0000 |test_acc : 1.0000 \n",
      "Epoch 4 |train_loss : 0.0000 |train_acc : 1.0000 |test_loss : 0.0000 |test_acc : 1.0000 \n",
      "Epoch 5 |train_loss : 0.0000 |train_acc : 1.0000 |test_loss : 0.0000 |test_acc : 1.0000 \n",
      "--------------------------------------------------\n",
      "\n",
      "[INFO] Experiment number: 5\n",
      "[INFO] model: TinyVGG\n",
      "[INFO] Optimizer: SGD\n",
      "[INFO] Epochs: 5\n",
      "[INFO] create summary writer, saving to: runs/2024-11-21/SGD/TinyVGG/5\n"
     ]
    },
    {
     "data": {
      "application/vnd.jupyter.widget-view+json": {
       "model_id": "c5e1c4fc870d48a59e28ea194f930081",
       "version_major": 2,
       "version_minor": 0
      },
      "text/plain": [
       "  0%|          | 0/5 [00:00<?, ?it/s]"
      ]
     },
     "metadata": {},
     "output_type": "display_data"
    },
    {
     "name": "stdout",
     "output_type": "stream",
     "text": [
      "Epoch 1 |train_loss : 0.3085 |train_acc : 0.6667 |test_loss : 0.0000 |test_acc : 1.0000 \n",
      "Epoch 2 |train_loss : 0.0000 |train_acc : 1.0000 |test_loss : 0.0000 |test_acc : 1.0000 \n",
      "Epoch 3 |train_loss : 0.0000 |train_acc : 1.0000 |test_loss : 0.0000 |test_acc : 1.0000 \n",
      "Epoch 4 |train_loss : 0.0000 |train_acc : 1.0000 |test_loss : 0.0000 |test_acc : 1.0000 \n",
      "Epoch 5 |train_loss : 0.0000 |train_acc : 1.0000 |test_loss : 0.0000 |test_acc : 1.0000 \n",
      "--------------------------------------------------\n",
      "\n",
      "[INFO] Experiment number: 6\n",
      "[INFO] model: TinyVGG\n",
      "[INFO] Optimizer: Adamw\n",
      "[INFO] Epochs: 5\n",
      "[INFO] create summary writer, saving to: runs/2024-11-21/Adamw/TinyVGG/5\n"
     ]
    },
    {
     "data": {
      "application/vnd.jupyter.widget-view+json": {
       "model_id": "bc7fac7365a34a209f38f78bcd3a5f26",
       "version_major": 2,
       "version_minor": 0
      },
      "text/plain": [
       "  0%|          | 0/5 [00:00<?, ?it/s]"
      ]
     },
     "metadata": {},
     "output_type": "display_data"
    },
    {
     "name": "stdout",
     "output_type": "stream",
     "text": [
      "Epoch 1 |train_loss : 0.2244 |train_acc : 0.8333 |test_loss : 0.0000 |test_acc : 1.0000 \n",
      "Epoch 2 |train_loss : 0.0000 |train_acc : 1.0000 |test_loss : 0.0000 |test_acc : 1.0000 \n",
      "Epoch 3 |train_loss : 0.0000 |train_acc : 1.0000 |test_loss : 0.0000 |test_acc : 1.0000 \n",
      "Epoch 4 |train_loss : 0.0000 |train_acc : 1.0000 |test_loss : 0.0000 |test_acc : 1.0000 \n",
      "Epoch 5 |train_loss : 0.0000 |train_acc : 1.0000 |test_loss : 0.0000 |test_acc : 1.0000 \n",
      "--------------------------------------------------\n",
      "\n",
      "[INFO] Experiment number: 7\n",
      "[INFO] model: TinyVGG\n",
      "[INFO] Optimizer: Adam\n",
      "[INFO] Epochs: 10\n",
      "[INFO] create summary writer, saving to: runs/2024-11-21/Adam/TinyVGG/10\n"
     ]
    },
    {
     "data": {
      "application/vnd.jupyter.widget-view+json": {
       "model_id": "ef71213a892142efb756906ddbf2b6ed",
       "version_major": 2,
       "version_minor": 0
      },
      "text/plain": [
       "  0%|          | 0/10 [00:00<?, ?it/s]"
      ]
     },
     "metadata": {},
     "output_type": "display_data"
    },
    {
     "name": "stdout",
     "output_type": "stream",
     "text": [
      "Epoch 1 |train_loss : 0.2883 |train_acc : 0.6667 |test_loss : 0.0000 |test_acc : 1.0000 \n",
      "Epoch 2 |train_loss : 0.0000 |train_acc : 1.0000 |test_loss : 0.0000 |test_acc : 1.0000 \n",
      "Epoch 3 |train_loss : 0.0000 |train_acc : 1.0000 |test_loss : 0.0000 |test_acc : 1.0000 \n",
      "Epoch 4 |train_loss : 0.0000 |train_acc : 1.0000 |test_loss : 0.0000 |test_acc : 1.0000 \n",
      "Epoch 5 |train_loss : 0.0000 |train_acc : 1.0000 |test_loss : 0.0000 |test_acc : 1.0000 \n",
      "Epoch 6 |train_loss : 0.0000 |train_acc : 1.0000 |test_loss : 0.0000 |test_acc : 1.0000 \n",
      "Epoch 7 |train_loss : 0.0000 |train_acc : 1.0000 |test_loss : 0.0000 |test_acc : 1.0000 \n",
      "Epoch 8 |train_loss : 0.0000 |train_acc : 1.0000 |test_loss : 0.0000 |test_acc : 1.0000 \n",
      "Epoch 9 |train_loss : 0.0000 |train_acc : 1.0000 |test_loss : 0.0000 |test_acc : 1.0000 \n",
      "Epoch 10 |train_loss : 0.0000 |train_acc : 1.0000 |test_loss : 0.0000 |test_acc : 1.0000 \n",
      "--------------------------------------------------\n",
      "\n",
      "[INFO] Experiment number: 8\n",
      "[INFO] model: TinyVGG\n",
      "[INFO] Optimizer: SGD\n",
      "[INFO] Epochs: 10\n",
      "[INFO] create summary writer, saving to: runs/2024-11-21/SGD/TinyVGG/10\n"
     ]
    },
    {
     "data": {
      "application/vnd.jupyter.widget-view+json": {
       "model_id": "deb328297d24499abaeebc3d895c9f7a",
       "version_major": 2,
       "version_minor": 0
      },
      "text/plain": [
       "  0%|          | 0/10 [00:00<?, ?it/s]"
      ]
     },
     "metadata": {},
     "output_type": "display_data"
    },
    {
     "name": "stdout",
     "output_type": "stream",
     "text": [
      "Epoch 1 |train_loss : 0.1136 |train_acc : 1.0000 |test_loss : 0.0000 |test_acc : 1.0000 \n",
      "Epoch 2 |train_loss : 0.0000 |train_acc : 1.0000 |test_loss : 0.0000 |test_acc : 1.0000 \n",
      "Epoch 3 |train_loss : 0.0000 |train_acc : 1.0000 |test_loss : 0.0000 |test_acc : 1.0000 \n",
      "Epoch 4 |train_loss : 0.0000 |train_acc : 1.0000 |test_loss : 0.0000 |test_acc : 1.0000 \n",
      "Epoch 5 |train_loss : 0.0000 |train_acc : 1.0000 |test_loss : 0.0000 |test_acc : 1.0000 \n",
      "Epoch 6 |train_loss : 0.0000 |train_acc : 1.0000 |test_loss : 0.0000 |test_acc : 1.0000 \n",
      "Epoch 7 |train_loss : 0.0000 |train_acc : 1.0000 |test_loss : 0.0000 |test_acc : 1.0000 \n",
      "Epoch 8 |train_loss : 0.0000 |train_acc : 1.0000 |test_loss : 0.0000 |test_acc : 1.0000 \n",
      "Epoch 9 |train_loss : 0.0000 |train_acc : 1.0000 |test_loss : 0.0000 |test_acc : 1.0000 \n",
      "Epoch 10 |train_loss : 0.0000 |train_acc : 1.0000 |test_loss : 0.0000 |test_acc : 1.0000 \n",
      "--------------------------------------------------\n",
      "\n",
      "[INFO] Experiment number: 9\n",
      "[INFO] model: TinyVGG\n",
      "[INFO] Optimizer: Adamw\n",
      "[INFO] Epochs: 10\n",
      "[INFO] create summary writer, saving to: runs/2024-11-21/Adamw/TinyVGG/10\n"
     ]
    },
    {
     "data": {
      "application/vnd.jupyter.widget-view+json": {
       "model_id": "f41c08c52dfc45d18dee6c7f68cc74e7",
       "version_major": 2,
       "version_minor": 0
      },
      "text/plain": [
       "  0%|          | 0/10 [00:00<?, ?it/s]"
      ]
     },
     "metadata": {},
     "output_type": "display_data"
    },
    {
     "name": "stdout",
     "output_type": "stream",
     "text": [
      "Epoch 1 |train_loss : 0.2061 |train_acc : 1.0000 |test_loss : 0.0000 |test_acc : 1.0000 \n",
      "Epoch 2 |train_loss : 0.0000 |train_acc : 1.0000 |test_loss : 0.0000 |test_acc : 1.0000 \n",
      "Epoch 3 |train_loss : 0.0000 |train_acc : 1.0000 |test_loss : 0.0000 |test_acc : 1.0000 \n",
      "Epoch 4 |train_loss : 0.0000 |train_acc : 1.0000 |test_loss : 0.0000 |test_acc : 1.0000 \n",
      "Epoch 5 |train_loss : 0.0000 |train_acc : 1.0000 |test_loss : 0.0000 |test_acc : 1.0000 \n",
      "Epoch 6 |train_loss : 0.0000 |train_acc : 1.0000 |test_loss : 0.0000 |test_acc : 1.0000 \n",
      "Epoch 7 |train_loss : 0.0000 |train_acc : 1.0000 |test_loss : 0.0000 |test_acc : 1.0000 \n",
      "Epoch 8 |train_loss : 0.0000 |train_acc : 1.0000 |test_loss : 0.0000 |test_acc : 1.0000 \n",
      "Epoch 9 |train_loss : 0.0000 |train_acc : 1.0000 |test_loss : 0.0000 |test_acc : 1.0000 \n",
      "Epoch 10 |train_loss : 0.0000 |train_acc : 1.0000 |test_loss : 0.0000 |test_acc : 1.0000 \n",
      "--------------------------------------------------\n",
      "\n"
     ]
    }
   ],
   "source": [
    "set_seed()\n",
    "\n",
    "experiment_number = 0\n",
    "model_num = 0\n",
    "loss_fn = nn.CrossEntropyLoss().to(device)\n",
    "timestamp = datetime.now().strftime(\"%Y-%m-%d\")\n",
    "\n",
    "for epochs in num_epochs:\n",
    "    for optimizer_name in optimizers:\n",
    "        experiment_number += 1\n",
    "        model_name = \"TinyVGG\"\n",
    "        print(f\"[INFO] Experiment number: {experiment_number}\")\n",
    "        print(f\"[INFO] model: {model_name}\")\n",
    "        print(f\"[INFO] Optimizer: {optimizer_name}\")\n",
    "        print(f\"[INFO] Epochs: {epochs}\")\n",
    "        model = TinyVGG(input_shape=1, hidden_units=64, output_shape=2).to(device)\n",
    "        writer = create_write(name=optimizer_name, \n",
    "        model=model_name, extra=str(epochs))\n",
    "        #log_dir = os.path.join(\"log\", timestamp + optimizer + name + str(epochs))\n",
    "        optimizer = select_optimizer(model, optimizer_name)\n",
    "        results = train(model, test_dataloader, train_dataloader, loss_fn, optimizer, device,\n",
    "        epochs, writer)\n",
    "        print(\"-\" * 50 + \"\\n\")"
   ]
  },
  {
   "cell_type": "code",
   "execution_count": 25,
   "metadata": {},
   "outputs": [],
   "source": [
    "torch.cuda.empty_cache()"
   ]
  }
 ],
 "metadata": {
  "kernelspec": {
   "display_name": "pytorch",
   "language": "python",
   "name": "python3"
  },
  "language_info": {
   "codemirror_mode": {
    "name": "ipython",
    "version": 3
   },
   "file_extension": ".py",
   "mimetype": "text/x-python",
   "name": "python",
   "nbconvert_exporter": "python",
   "pygments_lexer": "ipython3",
   "version": "3.12.4"
  }
 },
 "nbformat": 4,
 "nbformat_minor": 2
}
