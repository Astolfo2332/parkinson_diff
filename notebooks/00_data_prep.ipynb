{
 "cells": [
  {
   "cell_type": "code",
   "execution_count": 8,
   "metadata": {},
   "outputs": [
    {
     "name": "stdout",
     "output_type": "stream",
     "text": [
      "./ds001907-download\\derivatives\\sub-RC4201\\ses-1\\anat\\sub-RC4201_ses-1_T1wbrain.nii.gz\n",
      "./ds001907-download\\derivatives\\sub-RC4201\\ses-2\\anat\\sub-RC4201_ses-2_T1wbrain.nii.gz\n",
      "./ds001907-download\\derivatives\\sub-RC4204\\ses-1\\anat\\sub-RC4204_ses-1_T1wbrain.nii.gz\n",
      "./ds001907-download\\derivatives\\sub-RC4204\\ses-2\\anat\\sub-RC4204_ses-2_T1wbrain.nii.gz\n",
      "./ds001907-download\\derivatives\\sub-RC4205\\ses-1\\anat\\sub-RC4205_ses-1_T1wbrain.nii.gz\n",
      "./ds001907-download\\derivatives\\sub-RC4205\\ses-2\\anat\\sub-RC4205_ses-2_T1wbrain.nii.gz\n",
      "./ds001907-download\\derivatives\\sub-RC4206\\ses-1\\anat\\sub-RC4206_ses-1_T1wbrain.nii.gz\n",
      "./ds001907-download\\derivatives\\sub-RC4206\\ses-2\\anat\\sub-RC4206_ses-2_T1wbrain.nii.gz\n",
      "./ds001907-download\\derivatives\\sub-RC4207\\ses-1\\anat\\sub-RC4207_ses-1_T1wbrain.nii.gz\n",
      "./ds001907-download\\derivatives\\sub-RC4207\\ses-2\\anat\\sub-RC4207_ses-2_T1wbrain.nii.gz\n",
      "./ds001907-download\\derivatives\\sub-RC4208\\ses-1\\anat\\sub-RC4208_ses-1_T1wbrain.nii.gz\n",
      "./ds001907-download\\derivatives\\sub-RC4208\\ses-2\\anat\\sub-RC4208_ses-2_T1wbrain.nii.gz\n",
      "./ds001907-download\\derivatives\\sub-RC4210\\ses-1\\anat\\sub-RC4210_ses-1_T1wbrain.nii.gz\n",
      "./ds001907-download\\derivatives\\sub-RC4210\\ses-2\\anat\\sub-RC4210_ses-2_T1wbrain.nii.gz\n",
      "./ds001907-download\\derivatives\\sub-RC4211\\ses-1\\anat\\sub-RC4211_ses-1_T1wbrain.nii.gz\n",
      "./ds001907-download\\derivatives\\sub-RC4211\\ses-2\\anat\\sub-RC4211_ses-2_T1wbrain.nii.gz\n",
      "./ds001907-download\\derivatives\\sub-RC4212\\ses-1\\anat\\sub-RC4212_ses-1_T1wbrain.nii.gz\n",
      "./ds001907-download\\derivatives\\sub-RC4212\\ses-2\\anat\\sub-RC4212_ses-2_T1wbrain.nii.gz\n",
      "./ds001907-download\\derivatives\\sub-RC4213\\ses-1\\anat\\sub-RC4213_ses-1_T1wbrain.nii.gz\n",
      "./ds001907-download\\derivatives\\sub-RC4213\\ses-2\\anat\\sub-RC4213_ses-2_T1wbrain.nii.gz\n",
      "./ds001907-download\\derivatives\\sub-RC4214\\ses-1\\anat\\sub-RC4214_ses-1_T1wbrain.nii.gz\n",
      "./ds001907-download\\derivatives\\sub-RC4214\\ses-2\\anat\\sub-RC4214_ses-2_T1wbrain.nii.gz\n",
      "./ds001907-download\\derivatives\\sub-RC4215\\ses-1\\anat\\sub-RC4215_ses-1_T1wbrain.nii.gz\n",
      "./ds001907-download\\derivatives\\sub-RC4215\\ses-2\\anat\\sub-RC4215_ses-2_T1wbrain.nii.gz\n",
      "./ds001907-download\\derivatives\\sub-RC4217\\ses-1\\anat\\sub-RC4217_ses-1_T1wbrain.nii.gz\n",
      "./ds001907-download\\derivatives\\sub-RC4217\\ses-2\\anat\\sub-RC4217_ses-2_T1wbrain.nii.gz\n",
      "./ds001907-download\\derivatives\\sub-RC4218\\ses-1\\anat\\sub-RC4218_ses-1_T1wbrain.nii.gz\n",
      "./ds001907-download\\derivatives\\sub-RC4218\\ses-2\\anat\\sub-RC4218_ses-2_T1wbrain.nii.gz\n",
      "./ds001907-download\\derivatives\\sub-RC4219\\ses-1\\anat\\sub-RC4219_ses-1_T1wbrain.nii.gz\n",
      "./ds001907-download\\derivatives\\sub-RC4219\\ses-2\\anat\\sub-RC4219_ses-2_T1wbrain.nii.gz\n",
      "./ds001907-download\\derivatives\\sub-RC4220\\ses-1\\anat\\sub-RC4220_ses-1_T1wbrain.nii.gz\n",
      "./ds001907-download\\derivatives\\sub-RC4220\\ses-2\\anat\\sub-RC4220_ses-2_T1wbrain.nii.gz\n",
      "./ds001907-download\\derivatives\\sub-RC4221\\ses-1\\anat\\sub-RC4221_ses-1_T1wbrain.nii.gz\n",
      "./ds001907-download\\derivatives\\sub-RC4221\\ses-2\\anat\\sub-RC4221_ses-2_T1wbrain.nii.gz\n",
      "./ds001907-download\\derivatives\\sub-RC4224\\ses-1\\anat\\sub-RC4224_ses-1_T1wbrain.nii.gz\n",
      "./ds001907-download\\derivatives\\sub-RC4224\\ses-2\\anat\\sub-RC4224_ses-2_T1wbrain.nii.gz\n",
      "./ds001907-download\\derivatives\\sub-RC4225\\ses-1\\anat\\sub-RC4225_ses-1_T1wbrain.nii.gz\n",
      "./ds001907-download\\derivatives\\sub-RC4225\\ses-2\\anat\\sub-RC4225_ses-2_T1wbrain.nii.gz\n",
      "./ds001907-download\\derivatives\\sub-RC4226\\ses-1\\anat\\sub-RC4226_ses-1_T1wbrain.nii.gz\n",
      "./ds001907-download\\derivatives\\sub-RC4226\\ses-2\\anat\\sub-RC4226_ses-2_T1wbrain.nii.gz\n",
      "./ds001907-download\\derivatives\\sub-RC4227\\ses-1\\anat\\sub-RC4227_ses-1_T1wbrain.nii.gz\n",
      "./ds001907-download\\derivatives\\sub-RC4227\\ses-2\\anat\\sub-RC4227_ses-2_T1wbrain.nii.gz\n",
      "./ds001907-download\\sub-RC4101\\ses-1\\anat\\sub-RC4101_ses-1_T1w.nii.gz\n",
      "./ds001907-download\\sub-RC4101\\ses-2\\anat\\sub-RC4101_ses-2_T1w.nii.gz\n",
      "./ds001907-download\\sub-RC4103\\ses-1\\anat\\sub-RC4103_ses-1_T1w.nii.gz\n",
      "./ds001907-download\\sub-RC4103\\ses-2\\anat\\sub-RC4103_ses-2_T1w.nii.gz\n",
      "./ds001907-download\\sub-RC4106\\ses-1\\anat\\sub-RC4106_ses-1_T1w.nii.gz\n",
      "./ds001907-download\\sub-RC4106\\ses-2\\anat\\sub-RC4106_ses-2_T1w.nii.gz\n",
      "./ds001907-download\\sub-RC4107\\ses-1\\anat\\sub-RC4107_ses-1_T1w.nii.gz\n",
      "./ds001907-download\\sub-RC4107\\ses-2\\anat\\sub-RC4107_ses-2_T1w.nii.gz\n",
      "./ds001907-download\\sub-RC4109\\ses-1\\anat\\sub-RC4109_ses-1_T1w.nii.gz\n",
      "./ds001907-download\\sub-RC4109\\ses-2\\anat\\sub-RC4109_ses-2_T1w.nii.gz\n",
      "./ds001907-download\\sub-RC4110\\ses-1\\anat\\sub-RC4110_ses-1_T1w.nii.gz\n",
      "./ds001907-download\\sub-RC4110\\ses-2\\anat\\sub-RC4110_ses-2_T1w.nii.gz\n",
      "./ds001907-download\\sub-RC4111\\ses-1\\anat\\sub-RC4111_ses-1_T1w.nii.gz\n",
      "./ds001907-download\\sub-RC4111\\ses-2\\anat\\sub-RC4111_ses-2_T1w.nii.gz\n",
      "./ds001907-download\\sub-RC4112\\ses-1\\anat\\sub-RC4112_ses-1_T1w.nii.gz\n",
      "./ds001907-download\\sub-RC4112\\ses-2\\anat\\sub-RC4112_ses-2_T1w.nii.gz\n",
      "./ds001907-download\\sub-RC4113\\ses-1\\anat\\sub-RC4113_ses-1_T1w.nii.gz\n",
      "./ds001907-download\\sub-RC4113\\ses-2\\anat\\sub-RC4113_ses-2_T1w.nii.gz\n"
     ]
    }
   ],
   "source": [
    "import os\n",
    "\n",
    "def find_t1w_files(directory):\n",
    "    t1w_files = []\n",
    "    for root, dirs, files in os.walk(directory):\n",
    "        for file in files:\n",
    "            if file.endswith(\"T1w.nii.gz\"):\n",
    "                t1w_files.append(os.path.join(root, file))\n",
    "                break\n",
    "            if \"RC42\" in file and file.endswith(\"T1wbrain.nii.gz\"):\n",
    "                t1w_files.append(os.path.join(root, file))\n",
    "                break\n",
    "    return t1w_files\n",
    "\n",
    "# Ejemplo de uso\n",
    "directory = './ds001907-download'\n",
    "t1w_files = find_t1w_files(directory)\n",
    "for file in t1w_files:\n",
    "    print(file)"
   ]
  },
  {
   "cell_type": "code",
   "execution_count": 10,
   "metadata": {},
   "outputs": [],
   "source": [
    "import shutil\n",
    "import os\n",
    "\n",
    "def copy_files_with_structure(files, output_directory):\n",
    "    for file in files:\n",
    "        # Create the destination path by replacing the base directory with the output directory\n",
    "        dest_path = file.replace(directory, output_directory)\n",
    "        # Create the destination directory if it doesn't exist\n",
    "        os.makedirs(os.path.dirname(dest_path), exist_ok=True)\n",
    "        # Copy the file to the destination path\n",
    "        shutil.copy(file, dest_path)\n",
    "\n",
    "# Copiar los archivos manteniendo la estructura de carpetas\n",
    "copy_files_with_structure(t1w_files, \"output/\")"
   ]
  },
  {
   "cell_type": "code",
   "execution_count": null,
   "metadata": {},
   "outputs": [],
   "source": []
  }
 ],
 "metadata": {
  "kernelspec": {
   "display_name": "base",
   "language": "python",
   "name": "python3"
  },
  "language_info": {
   "codemirror_mode": {
    "name": "ipython",
    "version": 3
   },
   "file_extension": ".py",
   "mimetype": "text/x-python",
   "name": "python",
   "nbconvert_exporter": "python",
   "pygments_lexer": "ipython3",
   "version": "3.11.9"
  }
 },
 "nbformat": 4,
 "nbformat_minor": 2
}
