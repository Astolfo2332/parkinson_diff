{
 "cells": [
  {
   "cell_type": "code",
   "execution_count": 1,
   "metadata": {
    "colab": {
     "base_uri": "https://localhost:8080/"
    },
    "id": "L13i1ZmhsR7A",
    "outputId": "614be495-34ef-4b72-c9e4-9ff15db0cd81"
   },
   "outputs": [
    {
     "name": "stdout",
     "output_type": "stream",
     "text": [
      "[INFO] torch/torchvision version not correct\n",
      "Requirement already satisfied: torch in /usr/local/lib/python3.10/dist-packages (2.5.1+cu121)\n",
      "Requirement already satisfied: torchvision in /usr/local/lib/python3.10/dist-packages (0.20.1+cu121)\n",
      "Requirement already satisfied: filelock in /usr/local/lib/python3.10/dist-packages (from torch) (3.16.1)\n",
      "Requirement already satisfied: typing-extensions>=4.8.0 in /usr/local/lib/python3.10/dist-packages (from torch) (4.12.2)\n",
      "Requirement already satisfied: networkx in /usr/local/lib/python3.10/dist-packages (from torch) (3.4.2)\n",
      "Requirement already satisfied: jinja2 in /usr/local/lib/python3.10/dist-packages (from torch) (3.1.4)\n",
      "Requirement already satisfied: fsspec in /usr/local/lib/python3.10/dist-packages (from torch) (2024.10.0)\n",
      "Requirement already satisfied: sympy==1.13.1 in /usr/local/lib/python3.10/dist-packages (from torch) (1.13.1)\n",
      "Requirement already satisfied: mpmath<1.4,>=1.1.0 in /usr/local/lib/python3.10/dist-packages (from sympy==1.13.1->torch) (1.3.0)\n",
      "Requirement already satisfied: numpy in /usr/local/lib/python3.10/dist-packages (from torchvision) (1.26.4)\n",
      "Requirement already satisfied: pillow!=8.3.*,>=5.3.0 in /usr/local/lib/python3.10/dist-packages (from torchvision) (11.0.0)\n",
      "Requirement already satisfied: MarkupSafe>=2.0 in /usr/local/lib/python3.10/dist-packages (from jinja2->torch) (3.0.2)\n",
      "torch version:2.5.1+cu121\n",
      "torchvision version:0.20.1+cu121\n"
     ]
    }
   ],
   "source": [
    "try:\n",
    "  import torch\n",
    "  import torcchvision\n",
    "  assert int(torch.__version__.split(\".\")) >=12, \"torch veraion should be 1.12+\"\n",
    "  assert int(torchvision.__version__.split(\".\")) >=0.13, \"torchvision version should be 0.13+\"\n",
    "  print(f\"torch version:{torch.__version__}\")\n",
    "  print(f\"torchvision version:{torchvision.__version__}\")\n",
    "except:\n",
    "  print(f\"[INFO] torch/torchvision version not correct\")\n",
    "  !pip3 install -U torch torchvision\n",
    "  import torch\n",
    "  import torchvision\n",
    "  print(f\"torch version:{torch.__version__}\")\n",
    "  print(f\"torchvision version:{torchvision.__version__}\")"
   ]
  },
  {
   "cell_type": "code",
   "execution_count": 4,
   "metadata": {
    "colab": {
     "base_uri": "https://localhost:8080/"
    },
    "id": "K8jKb9FfvAW6",
    "outputId": "fc3518fe-dd0a-4a4a-c83d-0cfe5190daa4"
   },
   "outputs": [],
   "source": [
    "import torch\n",
    "import matplotlib\n",
    "import torchvision\n",
    "from torch import nn\n",
    "from torchvision import transforms\n",
    "from torchinfo import summary\n",
    "import nibabel as nib\n",
    "import numpy as np"
   ]
  },
  {
   "cell_type": "code",
   "execution_count": 5,
   "metadata": {
    "colab": {
     "base_uri": "https://localhost:8080/",
     "height": 36
    },
    "id": "bsYKV5MyxY4U",
    "outputId": "e93b8f37-c059-49b9-9cb6-86609a5efd79"
   },
   "outputs": [
    {
     "data": {
      "text/plain": [
       "'cuda'"
      ]
     },
     "execution_count": 5,
     "metadata": {},
     "output_type": "execute_result"
    }
   ],
   "source": [
    "device = \"cuda\" if torch.cuda.is_available() else \"cpu\"\n",
    "device"
   ]
  },
  {
   "cell_type": "code",
   "execution_count": 8,
   "metadata": {
    "colab": {
     "base_uri": "https://localhost:8080/"
    },
    "id": "TNTdX_E6xv-U",
    "outputId": "a368d91f-381e-4c47-d462-13db06fe4426"
   },
   "outputs": [
    {
     "data": {
      "text/plain": [
       "[(91, 109, 91),\n",
       " (91, 109, 91),\n",
       " (91, 109, 91),\n",
       " (91, 109, 91),\n",
       " (91, 109, 91),\n",
       " (91, 109, 91),\n",
       " (91, 109, 91),\n",
       " (91, 109, 91)]"
      ]
     },
     "execution_count": 8,
     "metadata": {},
     "output_type": "execute_result"
    }
   ],
   "source": [
    "import nibabel as nib\n",
    "import numpy as np\n",
    "\n",
    "subjetos = [\"sub-RC4101\", \"sub-RC4103\", \"sub-RC4106\", \"sub-RC4107\"]\n",
    "sesiones = [\"ses-1\", \"ses-2\"]\n",
    "imag_norm = []\n",
    "for sujeto in subjetos:\n",
    "    for sesion in sesiones:\n",
    "        ruta = f\"drive/MyDrive/Colab Notebooks/output/derivatives/preprocessed/{sujeto}/{sesion}/anat/{sujeto}_{sesion}_T1w_brain_registered.nii.gz\"\n",
    "        img1= nib.load(ruta)\n",
    "        imag_norm.append(img1.shape)\n",
    "\n",
    "imag_norm\n"
   ]
  },
  {
   "cell_type": "code",
   "execution_count": 9,
   "metadata": {
    "id": "ZTj83ty-n0mA"
   },
   "outputs": [],
   "source": [
    "import random\n",
    "\n",
    "base=\"drive/MyDrive/Colab Notebooks/output/derivatives/preprocessed\"\n",
    "imag_dir = []\n",
    "for sujeto in subjetos:\n",
    "  for sesion in sesiones:\n",
    "    ruta = f\"{base}/{sujeto}/{sesion}/anat/{sujeto}_{sesion}_T1w_brain_registered.nii.gz\"\n",
    "imag_dir.append(ruta)\n",
    "\n",
    "random.shuffle(imag_dir)\n",
    "train_ratio = 0.75\n",
    "train_size = int(len(imag_dir) * train_ratio)\n",
    "train= imag_dir[:train_size]\n",
    "test = imag_dir[train_size:]\n",
    "\n"
   ]
  },
  {
   "cell_type": "markdown",
   "metadata": {},
   "source": [
    "## Prueba 1"
   ]
  },
  {
   "cell_type": "code",
   "execution_count": 14,
   "metadata": {
    "colab": {
     "base_uri": "https://localhost:8080/"
    },
    "id": "w1oR02NwWhZt",
    "outputId": "a48d81c9-f431-4bff-947d-f995eee0a1f1"
   },
   "outputs": [
    {
     "name": "stdout",
     "output_type": "stream",
     "text": [
      "Tamaño del batch de entrenamiento: torch.Size([1, 1, 91, 109, 91])\n",
      "Tamaño del batch de entrenamiento: torch.Size([1, 1, 91, 109, 91])\n",
      "Tamaño del batch de entrenamiento: torch.Size([1, 1, 91, 109, 91])\n",
      "Tamaño del batch de entrenamiento: torch.Size([1, 1, 91, 109, 91])\n",
      "Tamaño del batch de entrenamiento: torch.Size([1, 1, 91, 109, 91])\n",
      "Tamaño del batch de entrenamiento: torch.Size([1, 1, 91, 109, 91])\n",
      "Tamaño del batch de prueba: torch.Size([1, 1, 91, 109, 91])\n",
      "Tamaño del batch de prueba: torch.Size([1, 1, 91, 109, 91])\n"
     ]
    },
    {
     "data": {
      "text/plain": [
       "(<torch.utils.data.dataloader.DataLoader at 0x7b5dd7c9d8a0>,\n",
       " <torch.utils.data.dataloader.DataLoader at 0x7b5dd7c9f8e0>)"
      ]
     },
     "execution_count": 14,
     "metadata": {},
     "output_type": "execute_result"
    }
   ],
   "source": [
    "import os\n",
    "import random\n",
    "import nibabel as nib\n",
    "import numpy as np\n",
    "import torch\n",
    "from torch.utils.data import DataLoader, TensorDataset\n",
    "\n",
    "subjetos = [\"sub-RC4101\", \"sub-RC4103\", \"sub-RC4106\", \"sub-RC4107\"]\n",
    "sesiones = [\"ses-1\", \"ses-2\"]\n",
    "base_path = \"drive/MyDrive/Colab Notebooks/output/derivatives/preprocessed\"\n",
    "\n",
    "\n",
    "image_paths = []\n",
    "for sujeto in subjetos:\n",
    "    for sesion in sesiones:\n",
    "        ruta = f\"{base_path}/{sujeto}/{sesion}/anat/{sujeto}_{sesion}_T1w_brain_registered.nii.gz\"\n",
    "        image_paths.append(ruta)\n",
    "\n",
    "random.shuffle(image_paths)\n",
    "\n",
    "train_ratio = 0.75\n",
    "train_size = int(len(image_paths) * train_ratio)\n",
    "train_paths = image_paths[:train_size]\n",
    "test_paths = image_paths[train_size:]\n",
    "\n",
    "def load_and_normalize_image(image_path):\n",
    "    image = nib.load(image_path).get_fdata()\n",
    "    image = image.astype(np.float32)\n",
    "    image = np.expand_dims(image, axis=0)\n",
    "    image = torch.tensor(image)\n",
    "    mean = torch.tensor([0.485]).view(1, 1, 1, 1)\n",
    "    std = torch.tensor([0.229]).view(1, 1, 1, 1)\n",
    "    image = (image - mean) / std\n",
    "\n",
    "    return image\n",
    "\n",
    "train_images = torch.stack([load_and_normalize_image(p) for p in train_paths])\n",
    "test_images = torch.stack([load_and_normalize_image(p) for p in test_paths])\n",
    "\n",
    "batch_size = 1\n",
    "\n",
    "train_dataloader = DataLoader(TensorDataset(train_images), batch_size=batch_size, shuffle=True)\n",
    "test_dataloader = DataLoader(TensorDataset(test_images), batch_size=batch_size, shuffle=False)\n",
    "for batch in train_dataloader:\n",
    "  print(f\"Tamaño del batch de entrenamiento: {batch[0].shape}\")\n",
    "for batch in test_dataloader:\n",
    "  print(f\"Tamaño del batch de prueba: {batch[0].shape}\")\n",
    "train_dataloader, test_dataloader"
   ]
  },
  {
   "cell_type": "markdown",
   "metadata": {},
   "source": [
    "## Prueba 2"
   ]
  },
  {
   "cell_type": "markdown",
   "metadata": {},
   "source": [
    "# Carga de datos "
   ]
  },
  {
   "cell_type": "code",
   "execution_count": 74,
   "metadata": {},
   "outputs": [
    {
     "name": "stdout",
     "output_type": "stream",
     "text": [
      "Tamaño del batch: torch.Size([1, 1, 91, 109, 91]), Labels: tensor([0])\n"
     ]
    }
   ],
   "source": [
    "import os\n",
    "import random\n",
    "import nibabel as nib\n",
    "import numpy as np\n",
    "import torch\n",
    "from torch.utils.data import DataLoader, TensorDataset\n",
    "from utils.normalización import search_paths\n",
    "from tqdm import tqdm\n",
    "\n",
    "workers = os.cpu_count()\n",
    "\n",
    "def set_seed(seed: int=23):\n",
    "    \"\"\"\n",
    "    Sets a specific seed for the tests\n",
    "    \n",
    "    Args:\n",
    "        seed (int, optional): Random seed to set. Defaults is 23.\n",
    "    \"\"\"\n",
    "    torch.manual_seed(seed)\n",
    "    torch.cuda.manual_seed(seed)\n",
    "\n",
    "files = search_paths(\"output/\", \"brain_normalized.nii.gz\")\n",
    "\n",
    "labels = [random.randint(0, 1) for _ in range(len(files))]\n",
    "\n",
    "class BrainDataset(torch.utils.data.Dataset):\n",
    "        def __init__(self, file_paths, labels, transform=None):\n",
    "            self.file_paths = file_paths\n",
    "            self.labels = labels\n",
    "            self.transform = transform\n",
    "\n",
    "        def __len__(self):\n",
    "            return len(self.file_paths)\n",
    "\n",
    "        def __getitem__(self, idx):\n",
    "            image_path = self.file_paths[idx]\n",
    "            label = self.labels[idx]\n",
    "            image = nib.load(image_path).get_fdata()\n",
    "            image = image.astype(np.float32)\n",
    "            image = np.expand_dims(image, axis=0)\n",
    "            image = torch.tensor(image)\n",
    "            if self.transform:\n",
    "                image = self.transform(image)\n",
    "            return image, label\n",
    "\n",
    "\n",
    "brain_dataset = BrainDataset(files, labels)\n",
    "\n",
    "train_size = int(0.75 * len(brain_dataset))\n",
    "test_size = len(brain_dataset) - train_size\n",
    "train_dataset, test_dataset = torch.utils.data.random_split(brain_dataset, [train_size, test_size])\n",
    "\n",
    "train_dataloader = DataLoader(train_dataset, batch_size=1, shuffle=True, num_workers=workers)\n",
    "test_dataloader = DataLoader(test_dataset, batch_size=1, shuffle=False, num_workers=workers)\n",
    "\n",
    "\n",
    "for batch in train_dataloader:\n",
    "    images, labels = batch\n",
    "    print(f\"Tamaño del batch: {images.shape}, Labels: {labels}\")\n",
    "    break"
   ]
  },
  {
   "cell_type": "code",
   "execution_count": null,
   "metadata": {},
   "outputs": [],
   "source": [
    "img, label = next(iter(train_dataloader))"
   ]
  },
  {
   "cell_type": "markdown",
   "metadata": {},
   "source": [
    "## Testing"
   ]
  },
  {
   "cell_type": "code",
   "execution_count": 64,
   "metadata": {},
   "outputs": [],
   "source": [
    "class TinyVGG(nn.Module):\n",
    "    \"\"\"\n",
    "    Model architecture copying TinyVGG from: \n",
    "    https://poloclub.github.io/cnn-explainer/\n",
    "    \"\"\"\n",
    "    def __init__(self, input_shape: int, hidden_units: int, output_shape: int) -> None:\n",
    "        super().__init__()\n",
    "        self.conv_block_1 = nn.Sequential(\n",
    "            nn.Conv3d(in_channels=input_shape, \n",
    "                      out_channels=hidden_units, \n",
    "                      kernel_size=3, # how big is the square that's going over the image?\n",
    "                      stride=1, # default\n",
    "                      padding=1), # options = \"valid\" (no padding) or \"same\" (output has same shape as input) or int for specific number \n",
    "            nn.ReLU(),\n",
    "            nn.Conv3d(in_channels=hidden_units, \n",
    "                      out_channels=hidden_units,\n",
    "                      kernel_size=3,\n",
    "                      stride=1,\n",
    "                      padding=1),\n",
    "            nn.ReLU(),\n",
    "            nn.MaxPool3d(kernel_size=2,\n",
    "                         stride=2) # default stride value is same as kernel_size\n",
    "        )\n",
    "        self.conv_block_2 = nn.Sequential(\n",
    "            nn.Conv3d(hidden_units, hidden_units, kernel_size=3, padding=1),\n",
    "            nn.ReLU(),\n",
    "            nn.Conv3d(hidden_units, hidden_units, kernel_size=3, padding=1),\n",
    "            nn.ReLU(),\n",
    "            nn.MaxPool3d(2)\n",
    "        )\n",
    "        self.classifier = nn.Sequential(\n",
    "            nn.Flatten(),\n",
    "            # Where did this in_features shape come from? \n",
    "            # It's because each layer of our network compresses and changes the shape of our inputs data.\n",
    "            nn.Linear(in_features= 836352,\n",
    "                      out_features=output_shape)\n",
    "        )\n",
    "    \n",
    "    def forward(self, x: torch.Tensor):\n",
    "        x = self.conv_block_1(x)\n",
    "        # print(x.shape)\n",
    "        x = self.conv_block_2(x)\n",
    "        x = self.classifier(x)\n",
    "        return x"
   ]
  },
  {
   "cell_type": "code",
   "execution_count": 66,
   "metadata": {},
   "outputs": [
    {
     "data": {
      "text/plain": [
       "tensor([1], device='cuda:0')"
      ]
     },
     "execution_count": 66,
     "metadata": {},
     "output_type": "execute_result"
    }
   ],
   "source": [
    "set_seed()\n",
    "model_0 = TinyVGG(input_shape=1, hidden_units=64, output_shape=2).to(device)\n",
    "\n",
    "with torch.inference_mode():\n",
    "    logit = model_0(img.to(device))\n",
    "    pred = torch.softmax(logit, dim=1).argmax(dim=1)\n",
    "\n",
    "pred"
   ]
  },
  {
   "cell_type": "markdown",
   "metadata": {},
   "source": [
    "## Train and test"
   ]
  },
  {
   "cell_type": "code",
   "execution_count": 76,
   "metadata": {},
   "outputs": [],
   "source": [
    "def train_func(model: nn.Module, data: torch.utils.data.DataLoader, loss_fn:nn.Module,\n",
    "               optimizer: torch.optim.Optimizer, device: torch.device=device):\n",
    "    model.eval()\n",
    "    train_loss, train_acc = 0, 0\n",
    "    for bathc, (X, y) in enumerate(data):\n",
    "        X, y = X.to(device), y.to(device)\n",
    "        y_logit = model(X)\n",
    "        loss = loss_fn(y_logit, y)\n",
    "        train_loss += loss.item()\n",
    "        optimizer.zero_grad()\n",
    "        loss.backward()\n",
    "        optimizer.step()\n",
    "        y_pred = torch.softmax(y_logit, 1).argmax(1)\n",
    "        train_acc += (y_pred == y).sum().item() / len (y_pred) #We can use another function if we want\n",
    "    train_loss = train_loss / len(data)\n",
    "    train_acc = train_acc / len(data)\n",
    "    return train_loss, train_acc"
   ]
  },
  {
   "cell_type": "code",
   "execution_count": 68,
   "metadata": {},
   "outputs": [],
   "source": [
    "def test_func(model: nn.Module, data: DataLoader, loss_fn: nn.Module, device: torch.device=device):\n",
    "    model.eval()\n",
    "    test_loss, test_acc = 0, 0\n",
    "    with torch.inference_mode():\n",
    "        for batch, (X, y) in enumerate(data):\n",
    "            X, y = X.to(device), y.to(device)\n",
    "            y_logits = model(X)\n",
    "            loss = loss_fn(y_logits, y)\n",
    "            test_loss += loss.item()\n",
    "            y_pred = y_logits.argmax(1)\n",
    "            test_acc += (y_pred == y).sum().item() / len (y_pred) #We can use another function if we want\n",
    "    test_loss = test_loss / len(data)\n",
    "    test_acc = test_acc / len(data)\n",
    "    return test_loss, test_acc"
   ]
  },
  {
   "cell_type": "code",
   "execution_count": 69,
   "metadata": {},
   "outputs": [],
   "source": [
    "def train(\n",
    "        model: nn.Module, test_data: DataLoader, train_data: DataLoader, loss_fn:nn.Module,\n",
    "        optimizer: torch.optim.Optimizer, device: torch.device=device, epochs: int =10\n",
    "):\n",
    "    results = {\n",
    "        \"train_loss\": [],\n",
    "        \"train_acc\": [],\n",
    "        \"test_loss\": [],\n",
    "        \"test_acc\": []\n",
    "    }\n",
    "    for epoch in tqdm(range(epochs)):\n",
    "        train_loss, train_acc = train_func(\n",
    "            model,train_data,loss_fn,optimizer\n",
    "        )\n",
    "        test_loss, test_acc = test_func(\n",
    "            model, test_data, loss_fn\n",
    "        )\n",
    "        print(\n",
    "            f\"Epoch {epoch+1} |\"\n",
    "            f\"train_loss :{train_loss: .4f} |\"\n",
    "            f\"train_acc :{train_acc: .4f} |\"\n",
    "            f\"test_loss :{test_loss: .4f} |\"\n",
    "            f\"test_acc :{test_acc: .4f} \"\n",
    "        )\n",
    "        results[\"train_loss\"].append(train_loss)\n",
    "        results[\"train_acc\"].append(train_acc)\n",
    "        results[\"test_loss\"].append(test_loss)\n",
    "        results[\"test_acc\"].append(test_acc)\n",
    "    return results"
   ]
  },
  {
   "cell_type": "code",
   "execution_count": 82,
   "metadata": {},
   "outputs": [],
   "source": [
    "loss_fn = nn.CrossEntropyLoss().to(device)\n",
    "optimizer = torch.optim.Adam(model_0.parameters(), lr=1e-3)"
   ]
  },
  {
   "cell_type": "code",
   "execution_count": 85,
   "metadata": {},
   "outputs": [
    {
     "name": "stderr",
     "output_type": "stream",
     "text": [
      " 20%|██        | 1/5 [00:03<00:13,  3.49s/it]"
     ]
    },
    {
     "name": "stdout",
     "output_type": "stream",
     "text": [
      "Epoch 1 |train_loss : 0.7302 |train_acc : 0.6667 |test_loss : 0.7989 |test_acc : 0.5000 \n"
     ]
    },
    {
     "name": "stderr",
     "output_type": "stream",
     "text": [
      " 40%|████      | 2/5 [00:07<00:10,  3.51s/it]"
     ]
    },
    {
     "name": "stdout",
     "output_type": "stream",
     "text": [
      "Epoch 2 |train_loss : 0.6906 |train_acc : 0.6667 |test_loss : 0.7021 |test_acc : 0.5000 \n"
     ]
    },
    {
     "name": "stderr",
     "output_type": "stream",
     "text": [
      " 60%|██████    | 3/5 [00:10<00:07,  3.50s/it]"
     ]
    },
    {
     "name": "stdout",
     "output_type": "stream",
     "text": [
      "Epoch 3 |train_loss : 0.6825 |train_acc : 0.6667 |test_loss : 0.7176 |test_acc : 0.5000 \n"
     ]
    },
    {
     "name": "stderr",
     "output_type": "stream",
     "text": [
      " 80%|████████  | 4/5 [00:14<00:03,  3.55s/it]"
     ]
    },
    {
     "name": "stdout",
     "output_type": "stream",
     "text": [
      "Epoch 4 |train_loss : 0.6585 |train_acc : 0.6667 |test_loss : 0.7302 |test_acc : 0.5000 \n"
     ]
    },
    {
     "name": "stderr",
     "output_type": "stream",
     "text": [
      "100%|██████████| 5/5 [00:17<00:00,  3.53s/it]"
     ]
    },
    {
     "name": "stdout",
     "output_type": "stream",
     "text": [
      "Epoch 5 |train_loss : 0.6906 |train_acc : 0.6667 |test_loss : 0.7055 |test_acc : 0.5000 \n"
     ]
    },
    {
     "name": "stderr",
     "output_type": "stream",
     "text": [
      "\n"
     ]
    }
   ],
   "source": [
    "epochs = 5\n",
    "model_0_results = train(model_0, test_dataloader, train_dataloader, loss_fn, optimizer,epochs=epochs)\n",
    "torch.cuda.empty_cache()"
   ]
  },
  {
   "cell_type": "code",
   "execution_count": 1,
   "metadata": {},
   "outputs": [
    {
     "ename": "NameError",
     "evalue": "name 'torch' is not defined",
     "output_type": "error",
     "traceback": [
      "\u001b[0;31m---------------------------------------------------------------------------\u001b[0m",
      "\u001b[0;31mNameError\u001b[0m                                 Traceback (most recent call last)",
      "Cell \u001b[0;32mIn[1], line 1\u001b[0m\n\u001b[0;32m----> 1\u001b[0m \u001b[43mtorch\u001b[49m\u001b[38;5;241m.\u001b[39mcuda\u001b[38;5;241m.\u001b[39mempty_cache()\n",
      "\u001b[0;31mNameError\u001b[0m: name 'torch' is not defined"
     ]
    }
   ],
   "source": [
    "torch.cuda.empty_cache()"
   ]
  },
  {
   "cell_type": "code",
   "execution_count": 80,
   "metadata": {},
   "outputs": [],
   "source": [
    "import matplotlib.pyplot as plt\n",
    "def plot_loss_curves(results: dict[str, list[float]]):\n",
    "    \"\"\"Plots training curves of a results dictionary.\n",
    "\n",
    "    Args:\n",
    "        results (dict): dictionary containing list of values, e.g.\n",
    "            {\"train_loss\": [...],\n",
    "             \"train_acc\": [...],\n",
    "             \"test_loss\": [...],\n",
    "             \"test_acc\": [...]}\n",
    "    \"\"\"\n",
    "    \n",
    "    # Get the loss values of the results dictionary (training and test)\n",
    "    loss = results['train_loss']\n",
    "    test_loss = results['test_loss']\n",
    "\n",
    "    # Get the accuracy values of the results dictionary (training and test)\n",
    "    accuracy = results['train_acc']\n",
    "    test_accuracy = results['test_acc']\n",
    "\n",
    "    # Figure out how many epochs there were\n",
    "    epochs = range(len(results['train_loss']))\n",
    "\n",
    "    # Setup a plot \n",
    "    plt.figure(figsize=(15, 7))\n",
    "\n",
    "    # Plot loss\n",
    "    plt.subplot(1, 2, 1)\n",
    "    plt.plot(epochs, loss, label='train_loss')\n",
    "    plt.plot(epochs, test_loss, label='test_loss')\n",
    "    plt.title('Loss')\n",
    "    plt.xlabel('Epochs')\n",
    "    plt.legend()\n",
    "\n",
    "    # Plot accuracy\n",
    "    plt.subplot(1, 2, 2)\n",
    "    plt.plot(epochs, accuracy, label='train_accuracy')\n",
    "    plt.plot(epochs, test_accuracy, label='test_accuracy')\n",
    "    plt.title('Accuracy')\n",
    "    plt.xlabel('Epochs')\n",
    "    plt.legend();"
   ]
  },
  {
   "cell_type": "code",
   "execution_count": 84,
   "metadata": {},
   "outputs": [
    {
     "data": {
      "image/png": "[encoded data removed]",
      "text/plain": [
       "<Figure size 1500x700 with 2 Axes>"
      ]
     },
     "metadata": {},
     "output_type": "display_data"
    }
   ],
   "source": [
    "plot_loss_curves(model_0_results)"
   ]
  },
  {
   "cell_type": "code",
   "execution_count": 15,
   "metadata": {
    "id": "2miq92TLnPwQ"
   },
   "outputs": [],
   "source": [
    "import nibabel as nib\n",
    "import torch\n",
    "import numpy as np\n",
    "import random from torch.utils.data import DataLoader, TensorDataset\n",
    "\n",
    "def load_and_normalize_image(image_path):\n",
    "    image = nib.load(image_path).get_fdata()\n",
    "    image = image.astype(np.float32)\n",
    "    image = np.expand_dims(image, axis=0)\n",
    "    image = torch.tensor(image)\n",
    "    mean = torch.tensor([0.485]).view(1, 1, 1, 1, 1)\n",
    "    std = torch.tensor([0.229]).view(1, 1, 1, 1, 1)\n",
    "    image = (image - mean) / std\n",
    "    return image\n",
    "\n",
    "subjetos = [\"sub-RC4101\", \"sub-RC4103\", \"sub-RC4106\", \"sub-RC4107\"]\n",
    "sesiones = [\"ses-1\", \"ses-2\"]\n",
    "base_path = \"drive/MyDrive/Colab Notebooks/output/derivatives/preprocessed\"\n",
    "\n",
    "image_paths = []\n",
    "for sujeto in subjetos:\n",
    "    for sesion in sesiones:\n",
    "        ruta = f\"{base_path}/{sujeto}/{sesion}/anat/{sujeto}_{sesion}_T1w_brain_registered.nii.gz\"\n",
    "        image_paths.append(ruta)\n",
    "\n",
    "random.shuffle(image_paths)\n",
    "\n",
    "train_ratio = 0.75\n",
    "train_size = int(len(image_paths) * train_ratio)\n",
    "train_paths = image_paths[:train_size]\n",
    "test_paths = image_paths[train_size:]\n",
    "\n",
    "train_images = torch.stack([load_and_normalize_image(p) for p in train_paths])\n",
    "test_images = torch.stack([load_and_normalize_image(p) for p in test_paths])\n",
    "\n",
    "train_labels = torch.tensor([random.randint(0, 1) for _ in train_paths], dtype=torch.long)\n",
    "test_labels = torch.tensor([random.randint(0, 1) for _ in test_paths], dtype=torch.long)\n",
    "\n",
    "batch_size = 1\n",
    "\n",
    "train_dataloader = DataLoader(TensorDataset(train_images, train_labels), batch_size=batch_size, shuffle=True)\n",
    "test_dataloader = DataLoader(TensorDataset(test_images, test_labels), batch_size=batch_size, shuffle=False)\n",
    "\n",
    "for batch in train_dataloader:\n",
    "    print(f\"Tamaño del batch de entrenamiento: {batch[0].shape}\")\n",
    "    break\n",
    "\n",
    "for batch in test_dataloader:\n",
    "    print(f\"Tamaño del batch de prueba: {batch[0].shape}\")\n",
    "    break\n",
    "\n",
    "train_dataloader, test_dataloader\n",
    "\n"
   ]
  },
  {
   "cell_type": "code",
   "execution_count": null,
   "metadata": {
    "id": "QSejEOJnfkiW"
   },
   "outputs": [],
   "source": [
    "\n"
   ]
  },
  {
   "cell_type": "code",
   "execution_count": null,
   "metadata": {
    "id": "WACkjFBp3OLr"
   },
   "outputs": [],
   "source": [
    "import torch.nn as nn\n",
    "import torch.optim as optim\n",
    "\n",
    "model_dict = { 'efficientnet_b0': (torchvision.models.efficientnet_b0, torchvision.models.EfficientNet_B0_Weights.DEFAULT, 1280),\n",
    "              'vgg16': (torchvision.models.vgg16, torchvision.models.VGG16_Weights.DEFAULT, 25088),\n",
    "               'vgg19': (torchvision.models.vgg19, torchvision.models.VGG19_Weights.DEFAULT, 25088) }\n",
    "def prepare_model(model_name):\n",
    "    model_fn, weights, in_features = model_dict[model_name]\n",
    "    model = model_fn(weights=weights)\n",
    "    model.features[0][0] = nn.Conv3d(\n",
    "        in_channels=1,\n",
    "        out_channels=model.features[0][0].out_channels,\n",
    "        kernel_size=model.features[0][0].kernel_size,\n",
    "        stride=model.features[0][0].stride,\n",
    "        padding=model.features[0][0].padding,\n",
    "        bias=False\n",
    "    )\n",
    "\n",
    "    for param in model.features.parameters():\n",
    "        param.requires_grad = False\n",
    "\n",
    "    model.classifier = nn.Sequential(\n",
    "        nn.Dropout(p=0.5),\n",
    "        nn.Linear(in_features=in_features, out_features=2)  # 2 salidas para las dos clases\n",
    "    )\n",
    "\n",
    "    return model\n",
    "\n"
   ]
  },
  {
   "cell_type": "code",
   "execution_count": null,
   "metadata": {
    "id": "K2k-E_gdqYxL"
   },
   "outputs": [],
   "source": [
    "def train_model(model, dataloader, criterion, optimizer, num_epochs=5):\n",
    "    model.train()\n",
    "    for epoch in range(num_epochs):\n",
    "        running_loss = 0.0\n",
    "        for inputs, labels in dataloader:\n",
    "            optimizer.zero_grad()\n",
    "            outputs = model(inputs)\n",
    "            loss = criterion(outputs, labels)\n",
    "            loss.backward()\n",
    "            optimizer.step()\n",
    "            running_loss += loss.item() * inputs.size(0)\n",
    "        epoch_loss = running_loss / len(dataloader.dataset)\n",
    "        print(f'Epoch {epoch+1}/{num_epochs}, Loss: {epoch_loss:.4f}')\n",
    "    return model\n",
    "\n",
    "def set_seeds(seed=42):\n",
    "    torch.manual_seed(seed)\n",
    "    if torch.cuda.is_available():\n",
    "        torch.cuda.manual_seed(seed)\n",
    "\n",
    "set_seeds()\n",
    "\n",
    "model_names = ['efficientnet_b0', 'vgg16', 'vgg19']\n",
    "num_epochs = 5\n",
    "criterion = nn.CrossEntropyLoss()\n",
    "\n",
    "for model_name in model_names:\n",
    "    print(f\"Preparando y entrenando el modelo: {model_name}\")\n",
    "    model = prepare_model(model_name)\n",
    "    optimizer = optim.Adam(model.parameters(), lr=0.001)\n",
    "    model = train_model(model, train_dataloader, criterion, optimizer, num_epochs)\n",
    "    print(f\"Entrenamiento del modelo {model_name} completado.\\n\")\n"
   ]
  }
 ],
 "metadata": {
  "accelerator": "GPU",
  "colab": {
   "gpuType": "T4",
   "provenance": []
  },
  "kernelspec": {
   "display_name": "pytorch",
   "language": "python",
   "name": "python3"
  },
  "language_info": {
   "codemirror_mode": {
    "name": "ipython",
    "version": 3
   },
   "file_extension": ".py",
   "mimetype": "text/x-python",
   "name": "python",
   "nbconvert_exporter": "python",
   "pygments_lexer": "ipython3",
   "version": "3.12.4"
  }
 },
 "nbformat": 4,
 "nbformat_minor": 0
}
