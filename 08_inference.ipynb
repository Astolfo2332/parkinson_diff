{
 "cells": [
  {
   "cell_type": "code",
   "execution_count": 22,
   "metadata": {},
   "outputs": [
    {
     "name": "stderr",
     "output_type": "stream",
     "text": [
      "/tmp/ipykernel_1166852/3973701282.py:20: FutureWarning: You are using `torch.load` with `weights_only=False` (the current default value), which uses the default pickle module implicitly. It is possible to construct malicious pickle data which will execute arbitrary code during unpickling (See https://github.com/pytorch/pytorch/blob/main/SECURITY.md#untrusted-models for more details). In a future release, the default value for `weights_only` will be flipped to `True`. This limits the functions that could be executed during unpickling. Arbitrary objects will no longer be allowed to be loaded via this mode unless they are explicitly allowlisted by the user via `torch.serialization.add_safe_globals`. We recommend you start setting `weights_only=True` for any use case where you don't have full control of the loaded file. Please open an issue on GitHub for any issues related to this experimental feature.\n",
      "  weights = torch.load(weights_path)\n"
     ]
    },
    {
     "name": "stdout",
     "output_type": "stream",
     "text": [
      "[INFO] create new resnet152 model.\n",
      "tensor([[0.9963, 0.0037]], device='cuda:0') tensor([0], device='cuda:0')\n"
     ]
    }
   ],
   "source": [
    "from utils.model_generator import get_model\n",
    "import torch\n",
    "import json\n",
    "import nibabel as nib\n",
    "import numpy as np\n",
    "\n",
    "\n",
    "weights_path = 'models/Test_4_New_Metrics/custom_resnet152/Adam/150/best_model_custom_resnet152.pth'\n",
    "\n",
    "file_path = [\"output/derivatives/preprocessed/sub-RC4101/ses-1/anat/sub-RC4101_ses-1_T1w_brain_normalized.nii.gz\"]\n",
    "\n",
    "image = nib.load(file_path[0]).get_fdata()\n",
    "image = image.astype(np.float32)\n",
    "image = np.expand_dims(image, axis=0)\n",
    "image = np.expand_dims(image, axis=0)\n",
    "image = torch.from_numpy(image)\n",
    "\n",
    "device = torch.device(\"cuda\" if torch.cuda.is_available() else \"cpu\")\n",
    "\n",
    "weights = torch.load(weights_path)\n",
    "\n",
    "model = get_model('custom_resnet152').to(device)\n",
    "\n",
    "model.load_state_dict(weights)\n",
    "\n",
    "inference_dict = {}\n",
    "\n",
    "with torch.inference_mode():\n",
    "    model.eval()\n",
    "\n",
    "    example = image.to(device)\n",
    "    output = model(example)\n",
    "\n",
    "logits = torch.softmax(output, dim=1)\n",
    "inference = torch.argmax(logits, dim=1)\n",
    "print(logits, inference)\n",
    "\n",
    "inference_dict[file_path[0].split(\"/\")[-1]] = logits.cpu().detach().numpy().tolist(), inference.cpu().detach().numpy().tolist()\n",
    "\n",
    "with open('inference/labels.json', 'w',encoding=\"utf\") as f:\n",
    "    json.dump(inference_dict, f, indent=4)\n"
   ]
  }
 ],
 "metadata": {
  "kernelspec": {
   "display_name": "pytorch",
   "language": "python",
   "name": "python3"
  },
  "language_info": {
   "codemirror_mode": {
    "name": "ipython",
    "version": 3
   },
   "file_extension": ".py",
   "mimetype": "text/x-python",
   "name": "python",
   "nbconvert_exporter": "python",
   "pygments_lexer": "ipython3",
   "version": "3.12.4"
  }
 },
 "nbformat": 4,
 "nbformat_minor": 2
}
