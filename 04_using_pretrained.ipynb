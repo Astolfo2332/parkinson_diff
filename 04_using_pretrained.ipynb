{
 "cells": [
  {
   "cell_type": "code",
   "execution_count": 1,
   "metadata": {},
   "outputs": [],
   "source": [
    "from typing import Dict, List, Tuple\n",
    "import torch\n",
    "from torch.utils.data import DataLoader\n",
    "from torch import nn\n",
    "from torch.utils.tensorboard import SummaryWriter\n",
    "from tqdm.auto import tqdm\n",
    "from datetime import datetime\n",
    "from utils.engine import train_func, test_func\n",
    "from utils.engine import set_seed\n",
    "import torchvision\n",
    "import torchinfo\n",
    "import torchvision.transforms as transforms\n",
    "from torchsummary import summary"
   ]
  },
  {
   "cell_type": "code",
   "execution_count": 1,
   "metadata": {},
   "outputs": [
    {
     "name": "stdout",
     "output_type": "stream",
     "text": [
      "Collecting git+https://github.com/shijianjian/EfficientNet-PyTorch-3D\n",
      "  Cloning https://github.com/shijianjian/EfficientNet-PyTorch-3D to /tmp/pip-req-build-m1nq3w9j\n",
      "  Running command git clone --filter=blob:none --quiet https://github.com/shijianjian/EfficientNet-PyTorch-3D /tmp/pip-req-build-m1nq3w9j\n",
      "  Resolved https://github.com/shijianjian/EfficientNet-PyTorch-3D to commit c13e36455573a55dea2ae4d5d09c85e01e654a7d\n",
      "  Preparing metadata (setup.py) ... \u001b[?25ldone\n",
      "\u001b[?25hRequirement already satisfied: torch in /home/astolfo/anaconda3/envs/pytorch/lib/python3.12/site-packages (from efficientnet_pytorch_3d==0.6.3) (2.4.0+cu124)\n",
      "Requirement already satisfied: filelock in /home/astolfo/anaconda3/envs/pytorch/lib/python3.12/site-packages (from torch->efficientnet_pytorch_3d==0.6.3) (3.13.1)\n",
      "Requirement already satisfied: typing-extensions>=4.8.0 in /home/astolfo/anaconda3/envs/pytorch/lib/python3.12/site-packages (from torch->efficientnet_pytorch_3d==0.6.3) (4.12.2)\n",
      "Requirement already satisfied: sympy in /home/astolfo/anaconda3/envs/pytorch/lib/python3.12/site-packages (from torch->efficientnet_pytorch_3d==0.6.3) (1.12)\n",
      "Requirement already satisfied: networkx in /home/astolfo/anaconda3/envs/pytorch/lib/python3.12/site-packages (from torch->efficientnet_pytorch_3d==0.6.3) (3.2.1)\n",
      "Requirement already satisfied: jinja2 in /home/astolfo/anaconda3/envs/pytorch/lib/python3.12/site-packages (from torch->efficientnet_pytorch_3d==0.6.3) (3.1.3)\n",
      "Requirement already satisfied: fsspec in /home/astolfo/anaconda3/envs/pytorch/lib/python3.12/site-packages (from torch->efficientnet_pytorch_3d==0.6.3) (2024.2.0)\n",
      "Requirement already satisfied: setuptools in /home/astolfo/anaconda3/envs/pytorch/lib/python3.12/site-packages (from torch->efficientnet_pytorch_3d==0.6.3) (72.1.0)\n",
      "Requirement already satisfied: nvidia-cuda-nvrtc-cu12==12.4.99 in /home/astolfo/anaconda3/envs/pytorch/lib/python3.12/site-packages (from torch->efficientnet_pytorch_3d==0.6.3) (12.4.99)\n",
      "Requirement already satisfied: nvidia-cuda-runtime-cu12==12.4.99 in /home/astolfo/anaconda3/envs/pytorch/lib/python3.12/site-packages (from torch->efficientnet_pytorch_3d==0.6.3) (12.4.99)\n",
      "Requirement already satisfied: nvidia-cuda-cupti-cu12==12.4.99 in /home/astolfo/anaconda3/envs/pytorch/lib/python3.12/site-packages (from torch->efficientnet_pytorch_3d==0.6.3) (12.4.99)\n",
      "Requirement already satisfied: nvidia-cudnn-cu12==9.1.0.70 in /home/astolfo/anaconda3/envs/pytorch/lib/python3.12/site-packages (from torch->efficientnet_pytorch_3d==0.6.3) (9.1.0.70)\n",
      "Requirement already satisfied: nvidia-cublas-cu12==12.4.2.65 in /home/astolfo/anaconda3/envs/pytorch/lib/python3.12/site-packages (from torch->efficientnet_pytorch_3d==0.6.3) (12.4.2.65)\n",
      "Requirement already satisfied: nvidia-cufft-cu12==11.2.0.44 in /home/astolfo/anaconda3/envs/pytorch/lib/python3.12/site-packages (from torch->efficientnet_pytorch_3d==0.6.3) (11.2.0.44)\n",
      "Requirement already satisfied: nvidia-curand-cu12==10.3.5.119 in /home/astolfo/anaconda3/envs/pytorch/lib/python3.12/site-packages (from torch->efficientnet_pytorch_3d==0.6.3) (10.3.5.119)\n",
      "Requirement already satisfied: nvidia-cusolver-cu12==11.6.0.99 in /home/astolfo/anaconda3/envs/pytorch/lib/python3.12/site-packages (from torch->efficientnet_pytorch_3d==0.6.3) (11.6.0.99)\n",
      "Requirement already satisfied: nvidia-cusparse-cu12==12.3.0.142 in /home/astolfo/anaconda3/envs/pytorch/lib/python3.12/site-packages (from torch->efficientnet_pytorch_3d==0.6.3) (12.3.0.142)\n",
      "Requirement already satisfied: nvidia-nccl-cu12==2.20.5 in /home/astolfo/anaconda3/envs/pytorch/lib/python3.12/site-packages (from torch->efficientnet_pytorch_3d==0.6.3) (2.20.5)\n",
      "Requirement already satisfied: nvidia-nvtx-cu12==12.4.99 in /home/astolfo/anaconda3/envs/pytorch/lib/python3.12/site-packages (from torch->efficientnet_pytorch_3d==0.6.3) (12.4.99)\n",
      "Requirement already satisfied: nvidia-nvjitlink-cu12==12.4.99 in /home/astolfo/anaconda3/envs/pytorch/lib/python3.12/site-packages (from torch->efficientnet_pytorch_3d==0.6.3) (12.4.99)\n",
      "Requirement already satisfied: triton==3.0.0 in /home/astolfo/anaconda3/envs/pytorch/lib/python3.12/site-packages (from torch->efficientnet_pytorch_3d==0.6.3) (3.0.0)\n",
      "Requirement already satisfied: MarkupSafe>=2.0 in /home/astolfo/anaconda3/envs/pytorch/lib/python3.12/site-packages (from jinja2->torch->efficientnet_pytorch_3d==0.6.3) (2.1.5)\n",
      "Requirement already satisfied: mpmath>=0.19 in /home/astolfo/anaconda3/envs/pytorch/lib/python3.12/site-packages (from sympy->torch->efficientnet_pytorch_3d==0.6.3) (1.3.0)\n",
      "Building wheels for collected packages: efficientnet_pytorch_3d\n",
      "  Building wheel for efficientnet_pytorch_3d (setup.py) ... \u001b[?25ldone\n",
      "\u001b[?25h  Created wheel for efficientnet_pytorch_3d: filename=efficientnet_pytorch_3d-0.6.3-py3-none-any.whl size=16746 sha256=e0c2f35f9b82a99d066bead56c0e638b5685a8c53add420121a371c1f37d7006\n",
      "  Stored in directory: /tmp/pip-ephem-wheel-cache-8qaorkt8/wheels/01/7c/5f/e607745cd740be61db99d5ab232d700c1270d34220bf309e03\n",
      "Successfully built efficientnet_pytorch_3d\n",
      "Installing collected packages: efficientnet_pytorch_3d\n",
      "Successfully installed efficientnet_pytorch_3d-0.6.3\n",
      "Note: you may need to restart the kernel to use updated packages.\n"
     ]
    }
   ],
   "source": [
    "pip install git+https://github.com/shijianjian/EfficientNet-PyTorch-3D"
   ]
  },
  {
   "cell_type": "code",
   "execution_count": 2,
   "metadata": {},
   "outputs": [],
   "source": [
    "from efficientnet_pytorch_3d import EfficientNet3D"
   ]
  },
  {
   "cell_type": "code",
   "execution_count": 3,
   "metadata": {},
   "outputs": [],
   "source": [
    "device = torch.device(\"cuda\" if torch.cuda.is_available() else \"cpu\")"
   ]
  },
  {
   "cell_type": "code",
   "execution_count": 4,
   "metadata": {},
   "outputs": [],
   "source": [
    "model = EfficientNet3D.from_name(\"efficientnet-b0\", override_params={'num_classes': 2}, in_channels=1)\n",
    "\n",
    "from torchsummary import summary\n",
    "#summary(model, input_size=(1, 200, 200, 200))\n",
    "\n",
    "model = model.cuda()\n",
    "# inputs = torch.randn((1, 1, 200, 200, 200)).cuda()\n",
    "# labels = torch.tensor([0]).cuda()\n",
    "# # test forward\n",
    "# num_classes = 2\n",
    "\n",
    "# criterion = torch.nn.CrossEntropyLoss()\n",
    "# optimizer = torch.optim.SGD(model.parameters(), lr=0.001, momentum=0.9)\n",
    "\n",
    "# model.train()\n",
    "# for epoch in range(2):\n",
    "#     # zero the parameter gradients\n",
    "#     optimizer.zero_grad()\n",
    "\n",
    "#     # forward + backward + optimize\n",
    "#     outputs = model(inputs)\n",
    "#     loss = criterion(outputs, labels)\n",
    "#     loss.backward()\n",
    "#     optimizer.step()\n",
    "\n",
    "#     # print statistics\n",
    "#     print('[%d] loss: %.3f' % (epoch + 1, loss.item()))\n",
    "\n",
    "# print('Finished Training')"
   ]
  },
  {
   "cell_type": "code",
   "execution_count": 5,
   "metadata": {},
   "outputs": [],
   "source": [
    "from utils.data_load import load_data\n",
    "train_dataloader, test_dataloader = load_data(\"output/\", 1 \n",
    "                                              ,#transform=transform\n",
    "                                              )"
   ]
  },
  {
   "cell_type": "code",
   "execution_count": 38,
   "metadata": {},
   "outputs": [
    {
     "name": "stdout",
     "output_type": "stream",
     "text": [
      "torch.Size([1, 200, 200, 200])\n"
     ]
    }
   ],
   "source": [
    "import torch\n",
    "import torch.nn.functional as F\n",
    "\n",
    "# Assuming your tensor is called 'input_tensor'\n",
    "input_tensor = torch.randn(1, 91, 106, 91)\n",
    "\n",
    "# Pad the tensor to the new size\n",
    "padded_tensor = F.pad(input_tensor, (54, 55, 47, 47, 54, 55))  # (padding for each dimension: (begin, end))\n",
    "print(padded_tensor.shape)  # Should print: torch.Size([1, 200, 200, 200])\n"
   ]
  },
  {
   "cell_type": "code",
   "execution_count": 15,
   "metadata": {},
   "outputs": [
    {
     "name": "stdout",
     "output_type": "stream",
     "text": [
      "torch.Size([1, 91, 91, 91])\n"
     ]
    }
   ],
   "source": [
    "\n",
    "\n",
    "# Example input tensor\n",
    "input_tensor = torch.randn(1, 91, 106, 91)\n",
    "\n",
    "# Resize to match the desired shape\n",
    "resized_tensor = F.interpolate(input_tensor, size=(91, 91), mode='bilinear', align_corners=False)\n",
    "print(resized_tensor.shape)  # torch.Size([1, 91, 91, 91])"
   ]
  },
  {
   "cell_type": "code",
   "execution_count": 6,
   "metadata": {},
   "outputs": [
    {
     "data": {
      "text/plain": [
       "(torch.Size([1, 1, 200, 203, 200]), torch.Size([1]))"
      ]
     },
     "execution_count": 6,
     "metadata": {},
     "output_type": "execute_result"
    }
   ],
   "source": [
    "img, label = next(iter(train_dataloader))\n",
    "img.shape, label.shape"
   ]
  },
  {
   "cell_type": "code",
   "execution_count": 11,
   "metadata": {},
   "outputs": [
    {
     "data": {
      "text/plain": [
       "torch.Size([1, 1, 91, 91, 91])"
      ]
     },
     "execution_count": 11,
     "metadata": {},
     "output_type": "execute_result"
    }
   ],
   "source": [
    "inputs.shape"
   ]
  },
  {
   "cell_type": "code",
   "execution_count": 7,
   "metadata": {},
   "outputs": [
    {
     "name": "stdout",
     "output_type": "stream",
     "text": [
      "[1] loss: 0.662\n",
      "[2] loss: 0.653\n",
      "Finished Training\n"
     ]
    }
   ],
   "source": [
    "import torch.nn.functional as F\n",
    "#inputs = F.interpolate(img, size=(200, 200, 200), mode='trilinear', align_corners=False).to(device)\n",
    "inputs = img.to(device)\n",
    "labels = label.to(device)\n",
    "# test forward\n",
    "num_classes = 2\n",
    "\n",
    "criterion = torch.nn.CrossEntropyLoss()\n",
    "optimizer = torch.optim.SGD(model.parameters(), lr=0.001, momentum=0.9)\n",
    "\n",
    "model.train()\n",
    "for epoch in range(2):\n",
    "    # zero the parameter gradients\n",
    "    optimizer.zero_grad()\n",
    "\n",
    "    # forward + backward + optimize\n",
    "    outputs = model(inputs)\n",
    "    loss = criterion(outputs, labels)\n",
    "    loss.backward()\n",
    "    optimizer.step()\n",
    "\n",
    "        # print statistics\n",
    "    print('[%d] loss: %.3f' % (epoch + 1, loss.item()))\n",
    "\n",
    "print('Finished Training')"
   ]
  },
  {
   "cell_type": "code",
   "execution_count": 13,
   "metadata": {},
   "outputs": [
    {
     "data": {
      "image/png": "[encoded data removed]",
      "text/plain": [
       "<Figure size 640x480 with 1 Axes>"
      ]
     },
     "metadata": {},
     "output_type": "display_data"
    }
   ],
   "source": [
    "import matplotlib.pyplot as plt\n",
    "\n",
    "# Select the first image from the inputs tensor\n",
    "image = inputs[0, :, :, :, 100].cpu().numpy()\n",
    "\n",
    "# Plot the image\n",
    "plt.imshow(image[image.shape[0] // 2], cmap='gray')\n",
    "plt.title('Middle Slice of the First Image in Inputs')\n",
    "plt.axis('off')\n",
    "plt.show()"
   ]
  },
  {
   "cell_type": "code",
   "execution_count": 26,
   "metadata": {},
   "outputs": [
    {
     "data": {
      "text/plain": [
       "====================================================================================================\n",
       "Layer (type:depth-idx)                             Output Shape              Param #\n",
       "====================================================================================================\n",
       "EfficientNet3D                                     [1, 2]                    --\n",
       "├─Conv3dStaticSamePadding: 1-1                     [1, 32, 45, 54, 45]       864\n",
       "│    └─ZeroPad2d: 2-1                              [1, 1, 92, 110, 92]       --\n",
       "├─BatchNorm3d: 1-2                                 [1, 32, 45, 54, 45]       64\n",
       "├─MemoryEfficientSwish: 1-3                        [1, 32, 45, 54, 45]       --\n",
       "├─ModuleList: 1-4                                  --                        --\n",
       "│    └─MBConvBlock3D: 2-2                          [1, 16, 22, 27, 22]       --\n",
       "│    │    └─Conv3dStaticSamePadding: 3-1           [1, 32, 22, 27, 22]       864\n",
       "│    │    └─BatchNorm3d: 3-2                       [1, 32, 22, 27, 22]       64\n",
       "│    │    └─MemoryEfficientSwish: 3-3              [1, 32, 22, 27, 22]       --\n",
       "│    │    └─Conv3dStaticSamePadding: 3-4           [1, 8, 1, 1, 1]           264\n",
       "│    │    └─MemoryEfficientSwish: 3-5              [1, 8, 1, 1, 1]           --\n",
       "│    │    └─Conv3dStaticSamePadding: 3-6           [1, 32, 1, 1, 1]          288\n",
       "│    │    └─Conv3dStaticSamePadding: 3-7           [1, 16, 22, 27, 22]       512\n",
       "│    │    └─BatchNorm3d: 3-8                       [1, 16, 22, 27, 22]       32\n",
       "│    └─MBConvBlock3D: 2-3                          [1, 24, 11, 13, 11]       --\n",
       "│    │    └─Conv3dStaticSamePadding: 3-9           [1, 96, 22, 27, 22]       1,536\n",
       "│    │    └─BatchNorm3d: 3-10                      [1, 96, 22, 27, 22]       192\n",
       "│    │    └─MemoryEfficientSwish: 3-11             [1, 96, 22, 27, 22]       --\n",
       "│    │    └─Conv3dStaticSamePadding: 3-12          [1, 96, 11, 13, 11]       2,592\n",
       "│    │    └─BatchNorm3d: 3-13                      [1, 96, 11, 13, 11]       192\n",
       "│    │    └─MemoryEfficientSwish: 3-14             [1, 96, 11, 13, 11]       --\n",
       "│    │    └─Conv3dStaticSamePadding: 3-15          [1, 4, 1, 1, 1]           388\n",
       "│    │    └─MemoryEfficientSwish: 3-16             [1, 4, 1, 1, 1]           --\n",
       "│    │    └─Conv3dStaticSamePadding: 3-17          [1, 96, 1, 1, 1]          480\n",
       "│    │    └─Conv3dStaticSamePadding: 3-18          [1, 24, 11, 13, 11]       2,304\n",
       "│    │    └─BatchNorm3d: 3-19                      [1, 24, 11, 13, 11]       48\n",
       "│    └─MBConvBlock3D: 2-4                          [1, 24, 11, 13, 11]       --\n",
       "│    │    └─Conv3dStaticSamePadding: 3-20          [1, 144, 11, 13, 11]      3,456\n",
       "│    │    └─BatchNorm3d: 3-21                      [1, 144, 11, 13, 11]      288\n",
       "│    │    └─MemoryEfficientSwish: 3-22             [1, 144, 11, 13, 11]      --\n",
       "│    │    └─Conv3dStaticSamePadding: 3-23          [1, 144, 11, 13, 11]      3,888\n",
       "│    │    └─BatchNorm3d: 3-24                      [1, 144, 11, 13, 11]      288\n",
       "│    │    └─MemoryEfficientSwish: 3-25             [1, 144, 11, 13, 11]      --\n",
       "│    │    └─Conv3dStaticSamePadding: 3-26          [1, 6, 1, 1, 1]           870\n",
       "│    │    └─MemoryEfficientSwish: 3-27             [1, 6, 1, 1, 1]           --\n",
       "│    │    └─Conv3dStaticSamePadding: 3-28          [1, 144, 1, 1, 1]         1,008\n",
       "│    │    └─Conv3dStaticSamePadding: 3-29          [1, 24, 11, 13, 11]       3,456\n",
       "│    │    └─BatchNorm3d: 3-30                      [1, 24, 11, 13, 11]       48\n",
       "│    └─MBConvBlock3D: 2-5                          [1, 40, 5, 6, 5]          --\n",
       "│    │    └─Conv3dStaticSamePadding: 3-31          [1, 144, 11, 13, 11]      3,456\n",
       "│    │    └─BatchNorm3d: 3-32                      [1, 144, 11, 13, 11]      288\n",
       "│    │    └─MemoryEfficientSwish: 3-33             [1, 144, 11, 13, 11]      --\n",
       "│    │    └─Conv3dStaticSamePadding: 3-34          [1, 144, 5, 6, 5]         18,000\n",
       "│    │    └─BatchNorm3d: 3-35                      [1, 144, 5, 6, 5]         288\n",
       "│    │    └─MemoryEfficientSwish: 3-36             [1, 144, 5, 6, 5]         --\n",
       "│    │    └─Conv3dStaticSamePadding: 3-37          [1, 6, 1, 1, 1]           870\n",
       "│    │    └─MemoryEfficientSwish: 3-38             [1, 6, 1, 1, 1]           --\n",
       "│    │    └─Conv3dStaticSamePadding: 3-39          [1, 144, 1, 1, 1]         1,008\n",
       "│    │    └─Conv3dStaticSamePadding: 3-40          [1, 40, 5, 6, 5]          5,760\n",
       "│    │    └─BatchNorm3d: 3-41                      [1, 40, 5, 6, 5]          80\n",
       "│    └─MBConvBlock3D: 2-6                          [1, 40, 5, 6, 5]          --\n",
       "│    │    └─Conv3dStaticSamePadding: 3-42          [1, 240, 5, 6, 5]         9,600\n",
       "│    │    └─BatchNorm3d: 3-43                      [1, 240, 5, 6, 5]         480\n",
       "│    │    └─MemoryEfficientSwish: 3-44             [1, 240, 5, 6, 5]         --\n",
       "│    │    └─Conv3dStaticSamePadding: 3-45          [1, 240, 5, 6, 5]         30,000\n",
       "│    │    └─BatchNorm3d: 3-46                      [1, 240, 5, 6, 5]         480\n",
       "│    │    └─MemoryEfficientSwish: 3-47             [1, 240, 5, 6, 5]         --\n",
       "│    │    └─Conv3dStaticSamePadding: 3-48          [1, 10, 1, 1, 1]          2,410\n",
       "│    │    └─MemoryEfficientSwish: 3-49             [1, 10, 1, 1, 1]          --\n",
       "│    │    └─Conv3dStaticSamePadding: 3-50          [1, 240, 1, 1, 1]         2,640\n",
       "│    │    └─Conv3dStaticSamePadding: 3-51          [1, 40, 5, 6, 5]          9,600\n",
       "│    │    └─BatchNorm3d: 3-52                      [1, 40, 5, 6, 5]          80\n",
       "│    └─MBConvBlock3D: 2-7                          [1, 80, 2, 3, 2]          --\n",
       "│    │    └─Conv3dStaticSamePadding: 3-53          [1, 240, 5, 6, 5]         9,600\n",
       "│    │    └─BatchNorm3d: 3-54                      [1, 240, 5, 6, 5]         480\n",
       "│    │    └─MemoryEfficientSwish: 3-55             [1, 240, 5, 6, 5]         --\n",
       "│    │    └─Conv3dStaticSamePadding: 3-56          [1, 240, 2, 3, 2]         6,480\n",
       "│    │    └─BatchNorm3d: 3-57                      [1, 240, 2, 3, 2]         480\n",
       "│    │    └─MemoryEfficientSwish: 3-58             [1, 240, 2, 3, 2]         --\n",
       "│    │    └─Conv3dStaticSamePadding: 3-59          [1, 10, 1, 1, 1]          2,410\n",
       "│    │    └─MemoryEfficientSwish: 3-60             [1, 10, 1, 1, 1]          --\n",
       "│    │    └─Conv3dStaticSamePadding: 3-61          [1, 240, 1, 1, 1]         2,640\n",
       "│    │    └─Conv3dStaticSamePadding: 3-62          [1, 80, 2, 3, 2]          19,200\n",
       "│    │    └─BatchNorm3d: 3-63                      [1, 80, 2, 3, 2]          160\n",
       "│    └─MBConvBlock3D: 2-8                          [1, 80, 2, 3, 2]          --\n",
       "│    │    └─Conv3dStaticSamePadding: 3-64          [1, 480, 2, 3, 2]         38,400\n",
       "│    │    └─BatchNorm3d: 3-65                      [1, 480, 2, 3, 2]         960\n",
       "│    │    └─MemoryEfficientSwish: 3-66             [1, 480, 2, 3, 2]         --\n",
       "│    │    └─Conv3dStaticSamePadding: 3-67          [1, 480, 2, 3, 2]         12,960\n",
       "│    │    └─BatchNorm3d: 3-68                      [1, 480, 2, 3, 2]         960\n",
       "│    │    └─MemoryEfficientSwish: 3-69             [1, 480, 2, 3, 2]         --\n",
       "│    │    └─Conv3dStaticSamePadding: 3-70          [1, 20, 1, 1, 1]          9,620\n",
       "│    │    └─MemoryEfficientSwish: 3-71             [1, 20, 1, 1, 1]          --\n",
       "│    │    └─Conv3dStaticSamePadding: 3-72          [1, 480, 1, 1, 1]         10,080\n",
       "│    │    └─Conv3dStaticSamePadding: 3-73          [1, 80, 2, 3, 2]          38,400\n",
       "│    │    └─BatchNorm3d: 3-74                      [1, 80, 2, 3, 2]          160\n",
       "│    └─MBConvBlock3D: 2-9                          [1, 80, 2, 3, 2]          --\n",
       "│    │    └─Conv3dStaticSamePadding: 3-75          [1, 480, 2, 3, 2]         38,400\n",
       "│    │    └─BatchNorm3d: 3-76                      [1, 480, 2, 3, 2]         960\n",
       "│    │    └─MemoryEfficientSwish: 3-77             [1, 480, 2, 3, 2]         --\n",
       "│    │    └─Conv3dStaticSamePadding: 3-78          [1, 480, 2, 3, 2]         12,960\n",
       "│    │    └─BatchNorm3d: 3-79                      [1, 480, 2, 3, 2]         960\n",
       "│    │    └─MemoryEfficientSwish: 3-80             [1, 480, 2, 3, 2]         --\n",
       "│    │    └─Conv3dStaticSamePadding: 3-81          [1, 20, 1, 1, 1]          9,620\n",
       "│    │    └─MemoryEfficientSwish: 3-82             [1, 20, 1, 1, 1]          --\n",
       "│    │    └─Conv3dStaticSamePadding: 3-83          [1, 480, 1, 1, 1]         10,080\n",
       "│    │    └─Conv3dStaticSamePadding: 3-84          [1, 80, 2, 3, 2]          38,400\n",
       "│    │    └─BatchNorm3d: 3-85                      [1, 80, 2, 3, 2]          160\n",
       "│    └─MBConvBlock3D: 2-10                         [1, 112, 2, 3, 2]         --\n",
       "│    │    └─Conv3dStaticSamePadding: 3-86          [1, 480, 2, 3, 2]         38,400\n",
       "│    │    └─BatchNorm3d: 3-87                      [1, 480, 2, 3, 2]         960\n",
       "│    │    └─MemoryEfficientSwish: 3-88             [1, 480, 2, 3, 2]         --\n",
       "│    │    └─Conv3dStaticSamePadding: 3-89          [1, 480, 2, 3, 2]         60,000\n",
       "│    │    └─BatchNorm3d: 3-90                      [1, 480, 2, 3, 2]         960\n",
       "│    │    └─MemoryEfficientSwish: 3-91             [1, 480, 2, 3, 2]         --\n",
       "│    │    └─Conv3dStaticSamePadding: 3-92          [1, 20, 1, 1, 1]          9,620\n",
       "│    │    └─MemoryEfficientSwish: 3-93             [1, 20, 1, 1, 1]          --\n",
       "│    │    └─Conv3dStaticSamePadding: 3-94          [1, 480, 1, 1, 1]         10,080\n",
       "│    │    └─Conv3dStaticSamePadding: 3-95          [1, 112, 2, 3, 2]         53,760\n",
       "│    │    └─BatchNorm3d: 3-96                      [1, 112, 2, 3, 2]         224\n",
       "│    └─MBConvBlock3D: 2-11                         [1, 112, 2, 3, 2]         --\n",
       "│    │    └─Conv3dStaticSamePadding: 3-97          [1, 672, 2, 3, 2]         75,264\n",
       "│    │    └─BatchNorm3d: 3-98                      [1, 672, 2, 3, 2]         1,344\n",
       "│    │    └─MemoryEfficientSwish: 3-99             [1, 672, 2, 3, 2]         --\n",
       "│    │    └─Conv3dStaticSamePadding: 3-100         [1, 672, 2, 3, 2]         84,000\n",
       "│    │    └─BatchNorm3d: 3-101                     [1, 672, 2, 3, 2]         1,344\n",
       "│    │    └─MemoryEfficientSwish: 3-102            [1, 672, 2, 3, 2]         --\n",
       "│    │    └─Conv3dStaticSamePadding: 3-103         [1, 28, 1, 1, 1]          18,844\n",
       "│    │    └─MemoryEfficientSwish: 3-104            [1, 28, 1, 1, 1]          --\n",
       "│    │    └─Conv3dStaticSamePadding: 3-105         [1, 672, 1, 1, 1]         19,488\n",
       "│    │    └─Conv3dStaticSamePadding: 3-106         [1, 112, 2, 3, 2]         75,264\n",
       "│    │    └─BatchNorm3d: 3-107                     [1, 112, 2, 3, 2]         224\n",
       "│    └─MBConvBlock3D: 2-12                         [1, 112, 2, 3, 2]         --\n",
       "│    │    └─Conv3dStaticSamePadding: 3-108         [1, 672, 2, 3, 2]         75,264\n",
       "│    │    └─BatchNorm3d: 3-109                     [1, 672, 2, 3, 2]         1,344\n",
       "│    │    └─MemoryEfficientSwish: 3-110            [1, 672, 2, 3, 2]         --\n",
       "│    │    └─Conv3dStaticSamePadding: 3-111         [1, 672, 2, 3, 2]         84,000\n",
       "│    │    └─BatchNorm3d: 3-112                     [1, 672, 2, 3, 2]         1,344\n",
       "│    │    └─MemoryEfficientSwish: 3-113            [1, 672, 2, 3, 2]         --\n",
       "│    │    └─Conv3dStaticSamePadding: 3-114         [1, 28, 1, 1, 1]          18,844\n",
       "│    │    └─MemoryEfficientSwish: 3-115            [1, 28, 1, 1, 1]          --\n",
       "│    │    └─Conv3dStaticSamePadding: 3-116         [1, 672, 1, 1, 1]         19,488\n",
       "│    │    └─Conv3dStaticSamePadding: 3-117         [1, 112, 2, 3, 2]         75,264\n",
       "│    │    └─BatchNorm3d: 3-118                     [1, 112, 2, 3, 2]         224\n",
       "│    └─MBConvBlock3D: 2-13                         [1, 192, 1, 1, 1]         --\n",
       "│    │    └─Conv3dStaticSamePadding: 3-119         [1, 672, 2, 3, 2]         75,264\n",
       "│    │    └─BatchNorm3d: 3-120                     [1, 672, 2, 3, 2]         1,344\n",
       "│    │    └─MemoryEfficientSwish: 3-121            [1, 672, 2, 3, 2]         --\n",
       "│    │    └─Conv3dStaticSamePadding: 3-122         [1, 672, 1, 1, 1]         84,000\n",
       "│    │    └─BatchNorm3d: 3-123                     [1, 672, 1, 1, 1]         1,344\n",
       "│    │    └─MemoryEfficientSwish: 3-124            [1, 672, 1, 1, 1]         --\n",
       "│    │    └─Conv3dStaticSamePadding: 3-125         [1, 28, 1, 1, 1]          18,844\n",
       "│    │    └─MemoryEfficientSwish: 3-126            [1, 28, 1, 1, 1]          --\n",
       "│    │    └─Conv3dStaticSamePadding: 3-127         [1, 672, 1, 1, 1]         19,488\n",
       "│    │    └─Conv3dStaticSamePadding: 3-128         [1, 192, 1, 1, 1]         129,024\n",
       "│    │    └─BatchNorm3d: 3-129                     [1, 192, 1, 1, 1]         384\n",
       "│    └─MBConvBlock3D: 2-14                         [1, 192, 1, 1, 1]         --\n",
       "│    │    └─Conv3dStaticSamePadding: 3-130         [1, 1152, 1, 1, 1]        221,184\n",
       "│    │    └─BatchNorm3d: 3-131                     [1, 1152, 1, 1, 1]        2,304\n",
       "│    │    └─MemoryEfficientSwish: 3-132            [1, 1152, 1, 1, 1]        --\n",
       "│    │    └─Conv3dStaticSamePadding: 3-133         [1, 1152, 1, 1, 1]        144,000\n",
       "│    │    └─BatchNorm3d: 3-134                     [1, 1152, 1, 1, 1]        2,304\n",
       "│    │    └─MemoryEfficientSwish: 3-135            [1, 1152, 1, 1, 1]        --\n",
       "│    │    └─Conv3dStaticSamePadding: 3-136         [1, 48, 1, 1, 1]          55,344\n",
       "│    │    └─MemoryEfficientSwish: 3-137            [1, 48, 1, 1, 1]          --\n",
       "│    │    └─Conv3dStaticSamePadding: 3-138         [1, 1152, 1, 1, 1]        56,448\n",
       "│    │    └─Conv3dStaticSamePadding: 3-139         [1, 192, 1, 1, 1]         221,184\n",
       "│    │    └─BatchNorm3d: 3-140                     [1, 192, 1, 1, 1]         384\n",
       "│    └─MBConvBlock3D: 2-15                         [1, 192, 1, 1, 1]         --\n",
       "│    │    └─Conv3dStaticSamePadding: 3-141         [1, 1152, 1, 1, 1]        221,184\n",
       "│    │    └─BatchNorm3d: 3-142                     [1, 1152, 1, 1, 1]        2,304\n",
       "│    │    └─MemoryEfficientSwish: 3-143            [1, 1152, 1, 1, 1]        --\n",
       "│    │    └─Conv3dStaticSamePadding: 3-144         [1, 1152, 1, 1, 1]        144,000\n",
       "│    │    └─BatchNorm3d: 3-145                     [1, 1152, 1, 1, 1]        2,304\n",
       "│    │    └─MemoryEfficientSwish: 3-146            [1, 1152, 1, 1, 1]        --\n",
       "│    │    └─Conv3dStaticSamePadding: 3-147         [1, 48, 1, 1, 1]          55,344\n",
       "│    │    └─MemoryEfficientSwish: 3-148            [1, 48, 1, 1, 1]          --\n",
       "│    │    └─Conv3dStaticSamePadding: 3-149         [1, 1152, 1, 1, 1]        56,448\n",
       "│    │    └─Conv3dStaticSamePadding: 3-150         [1, 192, 1, 1, 1]         221,184\n",
       "│    │    └─BatchNorm3d: 3-151                     [1, 192, 1, 1, 1]         384\n",
       "│    └─MBConvBlock3D: 2-16                         [1, 192, 1, 1, 1]         --\n",
       "│    │    └─Conv3dStaticSamePadding: 3-152         [1, 1152, 1, 1, 1]        221,184\n",
       "│    │    └─BatchNorm3d: 3-153                     [1, 1152, 1, 1, 1]        2,304\n",
       "│    │    └─MemoryEfficientSwish: 3-154            [1, 1152, 1, 1, 1]        --\n",
       "│    │    └─Conv3dStaticSamePadding: 3-155         [1, 1152, 1, 1, 1]        144,000\n",
       "│    │    └─BatchNorm3d: 3-156                     [1, 1152, 1, 1, 1]        2,304\n",
       "│    │    └─MemoryEfficientSwish: 3-157            [1, 1152, 1, 1, 1]        --\n",
       "│    │    └─Conv3dStaticSamePadding: 3-158         [1, 48, 1, 1, 1]          55,344\n",
       "│    │    └─MemoryEfficientSwish: 3-159            [1, 48, 1, 1, 1]          --\n",
       "│    │    └─Conv3dStaticSamePadding: 3-160         [1, 1152, 1, 1, 1]        56,448\n",
       "│    │    └─Conv3dStaticSamePadding: 3-161         [1, 192, 1, 1, 1]         221,184\n",
       "│    │    └─BatchNorm3d: 3-162                     [1, 192, 1, 1, 1]         384\n",
       "│    └─MBConvBlock3D: 2-17                         [1, 320, 1, 1, 1]         --\n",
       "│    │    └─Conv3dStaticSamePadding: 3-163         [1, 1152, 1, 1, 1]        221,184\n",
       "│    │    └─BatchNorm3d: 3-164                     [1, 1152, 1, 1, 1]        2,304\n",
       "│    │    └─MemoryEfficientSwish: 3-165            [1, 1152, 1, 1, 1]        --\n",
       "│    │    └─Conv3dStaticSamePadding: 3-166         [1, 1152, 1, 1, 1]        31,104\n",
       "│    │    └─BatchNorm3d: 3-167                     [1, 1152, 1, 1, 1]        2,304\n",
       "│    │    └─MemoryEfficientSwish: 3-168            [1, 1152, 1, 1, 1]        --\n",
       "│    │    └─Conv3dStaticSamePadding: 3-169         [1, 48, 1, 1, 1]          55,344\n",
       "│    │    └─MemoryEfficientSwish: 3-170            [1, 48, 1, 1, 1]          --\n",
       "│    │    └─Conv3dStaticSamePadding: 3-171         [1, 1152, 1, 1, 1]        56,448\n",
       "│    │    └─Conv3dStaticSamePadding: 3-172         [1, 320, 1, 1, 1]         368,640\n",
       "│    │    └─BatchNorm3d: 3-173                     [1, 320, 1, 1, 1]         640\n",
       "├─Conv3dStaticSamePadding: 1-5                     [1, 1280, 1, 1, 1]        409,600\n",
       "│    └─Identity: 2-18                              [1, 320, 1, 1, 1]         --\n",
       "├─BatchNorm3d: 1-6                                 [1, 1280, 1, 1, 1]        2,560\n",
       "├─MemoryEfficientSwish: 1-7                        [1, 1280, 1, 1, 1]        --\n",
       "├─AdaptiveAvgPool3d: 1-8                           [1, 1280, 1, 1, 1]        --\n",
       "├─Dropout: 1-9                                     [1, 1280]                 --\n",
       "├─Linear: 1-10                                     [1, 2]                    2,562\n",
       "====================================================================================================\n",
       "Total params: 4,690,942\n",
       "Trainable params: 4,690,942\n",
       "Non-trainable params: 0\n",
       "Total mult-adds (Units.MEGABYTES): 0.04\n",
       "====================================================================================================\n",
       "Input size (MB): 3.61\n",
       "Forward/backward pass size (MB): 52.20\n",
       "Params size (MB): 0.18\n",
       "Estimated Total Size (MB): 55.99\n",
       "===================================================================================================="
      ]
     },
     "execution_count": 26,
     "metadata": {},
     "output_type": "execute_result"
    }
   ],
   "source": [
    "torchinfo.summary(model, input_data=img.to(device))"
   ]
  },
  {
   "cell_type": "code",
   "execution_count": 11,
   "metadata": {},
   "outputs": [],
   "source": [
    "with torch.inference_mode():\n",
    "    logit = model(img.cuda())\n",
    "    pred = torch.softmax(logit, dim=1).argmax(dim=1)"
   ]
  },
  {
   "cell_type": "code",
   "execution_count": 12,
   "metadata": {},
   "outputs": [
    {
     "data": {
      "text/plain": [
       "tensor([0, 0], device='cuda:0')"
      ]
     },
     "execution_count": 12,
     "metadata": {},
     "output_type": "execute_result"
    }
   ],
   "source": [
    "pred"
   ]
  },
  {
   "cell_type": "code",
   "execution_count": null,
   "metadata": {},
   "outputs": [],
   "source": []
  },
  {
   "cell_type": "code",
   "execution_count": 8,
   "metadata": {},
   "outputs": [],
   "source": [
    "class ResizeAndSelectDimension:\n",
    "    def __init__(self, output_size, dimension=0):\n",
    "        self.output_size = output_size\n",
    "        self.dimension = dimension\n",
    "\n",
    "    def __call__(self, sample):\n",
    "        image = sample\n",
    "        # Redimensionar la imagen 3D\n",
    "        image = torch.nn.functional.interpolate(image.unsqueeze(0), size=self.output_size, mode='trilinear', align_corners=False)\n",
    "        image = image.squeeze(0)\n",
    "        # Seleccionar una dimensión (por ejemplo, la primera)\n",
    "        image = image[self.dimension, :, :]\n",
    "        return image"
   ]
  },
  {
   "cell_type": "code",
   "execution_count": 14,
   "metadata": {},
   "outputs": [],
   "source": [
    "from utils.data_load import load_data\n",
    "\n",
    "transform = transforms.Compose([\n",
    "    ResizeAndSelectDimension(output_size=(224,224,224), dimension=0)\n",
    "])\n",
    "\n",
    "train_dataloader, test_dataloader = load_data(\"output/\", 2 \n",
    "                                              ,#transform=transform\n",
    "                                              )"
   ]
  },
  {
   "cell_type": "code",
   "execution_count": 35,
   "metadata": {},
   "outputs": [
    {
     "data": {
      "text/plain": [
       "(torch.Size([2, 1, 91, 109, 91]), torch.Size([2]))"
      ]
     },
     "execution_count": 35,
     "metadata": {},
     "output_type": "execute_result"
    }
   ],
   "source": [
    "img, label = next(iter(train_dataloader))\n",
    "img.shape, label.shape"
   ]
  },
  {
   "cell_type": "code",
   "execution_count": 2,
   "metadata": {},
   "outputs": [
    {
     "data": {
      "text/plain": [
       "'cuda'"
      ]
     },
     "execution_count": 2,
     "metadata": {},
     "output_type": "execute_result"
    }
   ],
   "source": [
    "device = \"cuda\" if torch.cuda.is_available() else \"cpu\"\n",
    "device"
   ]
  },
  {
   "cell_type": "code",
   "execution_count": 7,
   "metadata": {},
   "outputs": [],
   "source": [
    "OUT_FEATURES = 2\n",
    "\n",
    "def create_effntb0():\n",
    "    weights = torchvision.models.EfficientNet_B0_Weights.DEFAULT\n",
    "    model = torchvision.models.efficientnet_b0(weights=weights).to(device)\n",
    "    for param in model.features.parameters():\n",
    "        param.requires_grad = False\n",
    "\n",
    "    set_seed()\n",
    "\n",
    "    model.classifier = torch.nn.Sequential(\n",
    "        torch.nn.Dropout(p=0.2, inplace=True), #We dont change this variable\n",
    "        torch.nn.Linear(in_features=1280, out_features=OUT_FEATURES, bias=True)\n",
    "    ).to(device)\n",
    "    print(f\"[INFO] create new effntb0 model.\")\n",
    "    return model"
   ]
  },
  {
   "cell_type": "code",
   "execution_count": 8,
   "metadata": {},
   "outputs": [
    {
     "name": "stdout",
     "output_type": "stream",
     "text": [
      "[INFO] create new effntb0 model.\n"
     ]
    }
   ],
   "source": [
    "model_effntb0 = create_effntb0()"
   ]
  },
  {
   "cell_type": "code",
   "execution_count": 12,
   "metadata": {},
   "outputs": [
    {
     "data": {
      "text/plain": [
       "==============================================================================================================\n",
       "Layer (type (var_name))                                      Param #                   Trainable\n",
       "==============================================================================================================\n",
       "EfficientNet (EfficientNet)                                  --                        Partial\n",
       "├─Sequential (features)                                      --                        False\n",
       "│    └─Conv2dNormActivation (0)                              --                        False\n",
       "│    │    └─Conv2d (0)                                       (864)                     False\n",
       "│    │    └─BatchNorm2d (1)                                  (64)                      False\n",
       "│    │    └─SiLU (2)                                         --                        --\n",
       "│    └─Sequential (1)                                        --                        False\n",
       "│    │    └─MBConv (0)                                       (1,448)                   False\n",
       "│    └─Sequential (2)                                        --                        False\n",
       "│    │    └─MBConv (0)                                       (6,004)                   False\n",
       "│    │    └─MBConv (1)                                       (10,710)                  False\n",
       "│    └─Sequential (3)                                        --                        False\n",
       "│    │    └─MBConv (0)                                       (15,350)                  False\n",
       "│    │    └─MBConv (1)                                       (31,290)                  False\n",
       "│    └─Sequential (4)                                        --                        False\n",
       "│    │    └─MBConv (0)                                       (37,130)                  False\n",
       "│    │    └─MBConv (1)                                       (102,900)                 False\n",
       "│    │    └─MBConv (2)                                       (102,900)                 False\n",
       "│    └─Sequential (5)                                        --                        False\n",
       "│    │    └─MBConv (0)                                       (126,004)                 False\n",
       "│    │    └─MBConv (1)                                       (208,572)                 False\n",
       "│    │    └─MBConv (2)                                       (208,572)                 False\n",
       "│    └─Sequential (6)                                        --                        False\n",
       "│    │    └─MBConv (0)                                       (262,492)                 False\n",
       "│    │    └─MBConv (1)                                       (587,952)                 False\n",
       "│    │    └─MBConv (2)                                       (587,952)                 False\n",
       "│    │    └─MBConv (3)                                       (587,952)                 False\n",
       "│    └─Sequential (7)                                        --                        False\n",
       "│    │    └─MBConv (0)                                       (717,232)                 False\n",
       "│    └─Conv2dNormActivation (8)                              --                        False\n",
       "│    │    └─Conv2d (0)                                       (409,600)                 False\n",
       "│    │    └─BatchNorm2d (1)                                  (2,560)                   False\n",
       "│    │    └─SiLU (2)                                         --                        --\n",
       "├─AdaptiveAvgPool2d (avgpool)                                --                        --\n",
       "├─Sequential (classifier)                                    --                        True\n",
       "│    └─Dropout (0)                                           --                        --\n",
       "│    └─Linear (1)                                            2,562                     True\n",
       "==============================================================================================================\n",
       "Total params: 4,010,110\n",
       "Trainable params: 2,562\n",
       "Non-trainable params: 4,007,548\n",
       "Total mult-adds (Units.GIGABYTES): 12.31\n",
       "==============================================================================================================\n",
       "Input size (MB): 19.27\n",
       "Forward/backward pass size (MB): 3452.09\n",
       "Params size (MB): 16.04\n",
       "Estimated Total Size (MB): 3487.40\n",
       "=============================================================================================================="
      ]
     },
     "execution_count": 12,
     "metadata": {},
     "output_type": "execute_result"
    }
   ],
   "source": [
    "torchinfo.summary(model_effntb0,(32, 3, 224, 224), col_names=[\"num_params\",\"trainable\"]\n",
    "                  ,row_settings=[\"var_names\"])"
   ]
  },
  {
   "cell_type": "code",
   "execution_count": null,
   "metadata": {},
   "outputs": [],
   "source": [
    "set_seed()\n",
    "model_0 = TinyVGG(input_shape=1, hidden_units=64, output_shape=2).to(device)\n",
    "\n",
    "with torch.inference_mode():\n",
    "    logit = model_0(img.to(device))\n",
    "    pred = torch.softmax(logit, dim=1).argmax(dim=1)\n",
    "\n",
    "pred"
   ]
  }
 ],
 "metadata": {
  "kernelspec": {
   "display_name": "pytorch",
   "language": "python",
   "name": "python3"
  },
  "language_info": {
   "codemirror_mode": {
    "name": "ipython",
    "version": 3
   },
   "file_extension": ".py",
   "mimetype": "text/x-python",
   "name": "python",
   "nbconvert_exporter": "python",
   "pygments_lexer": "ipython3",
   "version": "3.12.4"
  }
 },
 "nbformat": 4,
 "nbformat_minor": 2
}
